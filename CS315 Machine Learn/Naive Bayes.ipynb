{
 "cells": [
  {
   "cell_type": "markdown",
   "metadata": {},
   "source": [
    "# Simplistic Naive Bayes Example: Same Var (both features)"
   ]
  },
  {
   "cell_type": "markdown",
   "metadata": {},
   "source": [
    "# Preamble"
   ]
  },
  {
   "cell_type": "code",
   "execution_count": 2,
   "metadata": {},
   "outputs": [],
   "source": [
    "%matplotlib inline\n",
    "%load_ext autoreload\n",
    "%autoreload 2\n",
    "import numpy as np\n",
    "import pylab as plt"
   ]
  },
  {
   "cell_type": "markdown",
   "metadata": {},
   "source": [
    "# Data Points"
   ]
  },
  {
   "cell_type": "code",
   "execution_count": 3,
   "metadata": {},
   "outputs": [
    {
     "data": {
      "image/png": "[encoded data removed]",
      "text/plain": [
       "<matplotlib.figure.Figure at 0x7fb7aa408be0>"
      ]
     },
     "metadata": {},
     "output_type": "display_data"
    }
   ],
   "source": [
    "c1_x1 = np.array([0.3682,0.1521,-1.3033])\n",
    "c1_x2 = np.array([-2.0530,0.0131,-0.2105])\n",
    "c2_x1 = np.array([0.9456,1.3574,0.4478])\n",
    "c2_x2 = np.array([2.6543,1.0225,1.0543])\n",
    "\n",
    "circle1 = plt.Circle((-1, -1), 1, color='r')\n",
    "circle2 = plt.Circle((1, 1), 1, color='b')\n",
    "\n",
    "ax = plt.gca()\n",
    "\n",
    "ax.set_xlim((-3, 3))\n",
    "ax.set_ylim((-3, 3))\n",
    "\n",
    "ax.set_xlabel(\"$x_1$\")\n",
    "ax.set_ylabel(\"$x_2$\")\n",
    "\n",
    "ax.add_artist(circle1)\n",
    "ax.add_artist(circle2)\n",
    "\n",
    "ax.plot(c1_x1,c1_x2,\"ro\", markeredgecolor='black')\n",
    "ax.plot(c2_x1,c2_x2,\"bo\", markeredgecolor='black')\n",
    "#ax.plot(x,y,'k')\n",
    "\n",
    "plt.show()"
   ]
  },
  {
   "cell_type": "markdown",
   "metadata": {},
   "source": [
    "# Estimating Mean"
   ]
  },
  {
   "cell_type": "code",
   "execution_count": 5,
   "metadata": {},
   "outputs": [
    {
     "name": "stdout",
     "output_type": "stream",
     "text": [
      "-0.261\n",
      "-0.750133333333\n",
      "0.916933333333\n",
      "1.57703333333\n"
     ]
    }
   ],
   "source": [
    "u1x = np.mean(c1_x1)\n",
    "u1y = np.mean(c1_x2)\n",
    "\n",
    "u2x = np.mean(c2_x1)\n",
    "u2y = np.mean(c2_x2)\n",
    "\n",
    "print(u1x)\n",
    "print(u1y)\n",
    "print(u2x)\n",
    "print(u2y)"
   ]
  },
  {
   "cell_type": "markdown",
   "metadata": {},
   "source": [
    "# Estimating Std"
   ]
  },
  {
   "cell_type": "code",
   "execution_count": 6,
   "metadata": {},
   "outputs": [
    {
     "data": {
      "text/plain": [
       "0.72917212874144699"
      ]
     },
     "execution_count": 6,
     "metadata": {},
     "output_type": "execute_result"
    }
   ],
   "source": [
    "sum1 = np.sum((c1_x1-u1x)**2)\n",
    "sum2 = np.sum((c1_x2-u1y)**2)\n",
    "sum3 = np.sum((c2_x1-u2x)**2)\n",
    "sum4 = np.sum((c2_x2-u2y)**2)\n",
    "\n",
    "sigma = (sum1+sum2+sum3+sum4)/12.0\n",
    "np.sqrt(sigma)"
   ]
  },
  {
   "cell_type": "markdown",
   "metadata": {},
   "source": [
    "# Estimating Weights"
   ]
  },
  {
   "cell_type": "code",
   "execution_count": 8,
   "metadata": {},
   "outputs": [
    {
     "name": "stdout",
     "output_type": "stream",
     "text": [
      "-0.7065904183\n",
      "0.808899820376\n"
     ]
    }
   ],
   "source": [
    "wx = (u1x-u2x)/sigma\n",
    "wy = (u1y-u2x)/sigma\n",
    "w0 = -0.5*(u1x**2/sigma+u1y**2/sigma)+0.5*(u2x**2/sigma+u2y**2/sigma)\n",
    "\n",
    "m = -(wx/wy)\n",
    "c = -(w0/wy)\n",
    "\n",
    "print(m)\n",
    "print(c)"
   ]
  },
  {
   "cell_type": "markdown",
   "metadata": {},
   "source": [
    "# Draw Decision Boundary"
   ]
  },
  {
   "cell_type": "code",
   "execution_count": 9,
   "metadata": {},
   "outputs": [
    {
     "data": {
      "image/png": "[encoded data removed]",
      "text/plain": [
       "<matplotlib.figure.Figure at 0x7fb7a8390780>"
      ]
     },
     "metadata": {},
     "output_type": "display_data"
    }
   ],
   "source": [
    "x = np.linspace(-3,3)\n",
    "y = m*x+c\n",
    "\n",
    "circle1 = plt.Circle((-1, -1), 1, color='r')\n",
    "circle2 = plt.Circle((1, 1), 1, color='b')\n",
    "\n",
    "ax = plt.gca()\n",
    "\n",
    "ax.set_xlim((-3, 3))\n",
    "ax.set_ylim((-3, 3))\n",
    "\n",
    "ax.set_xlabel(\"$x_1$\")\n",
    "ax.set_ylabel(\"$x_2$\")\n",
    "\n",
    "ax.add_artist(circle1)\n",
    "ax.add_artist(circle2)\n",
    "\n",
    "ax.plot(c1_x1,c1_x2,\"ro\", markeredgecolor='black')\n",
    "ax.plot(c2_x1,c2_x2,\"bo\", markeredgecolor='black')\n",
    "ax.plot(x,y,'k')\n",
    "\n",
    "plt.show()"
   ]
  }
 ],
 "metadata": {
  "kernelspec": {
   "display_name": "Python 3",
   "language": "python",
   "name": "python3"
  },
  "language_info": {
   "codemirror_mode": {
    "name": "ipython",
    "version": 3
   },
   "file_extension": ".py",
   "mimetype": "text/x-python",
   "name": "python",
   "nbconvert_exporter": "python",
   "pygments_lexer": "ipython3",
   "version": "3.6.3"
  }
 },
 "nbformat": 4,
 "nbformat_minor": 2
}
