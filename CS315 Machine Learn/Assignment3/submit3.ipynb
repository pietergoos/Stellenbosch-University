{
 "cells": [
  {
   "cell_type": "markdown",
   "metadata": {},
   "source": [
    "**Complete the details below:**\n",
    "\n",
    "### Name: Elan van Biljon\n",
    "\n",
    "\n",
    "#### Student Number: 18384439"
   ]
  },
  {
   "cell_type": "code",
   "execution_count": 1,
   "metadata": {},
   "outputs": [],
   "source": [
    "%matplotlib inline\n",
    "%load_ext autoreload\n",
    "%autoreload 2"
   ]
  },
  {
   "cell_type": "code",
   "execution_count": 2,
   "metadata": {},
   "outputs": [],
   "source": [
    "# Import different modules for using with the notebook\n",
    "import numpy as np\n",
    "import matplotlib\n",
    "import matplotlib.pyplot as plt\n",
    "import matplotlib.cm as cm\n",
    "from IPython.display import HTML\n",
    "from IPython.display import display\n",
    "from IPython.display import Image\n",
    "\n",
    "from sklearn.decomposition import PCA\n",
    "from sklearn.discriminant_analysis import LinearDiscriminantAnalysis as LDA\n",
    "from sklearn.metrics import confusion_matrix\n",
    "from sklearn.cluster import KMeans\n",
    "from sklearn.mixture import GMM\n",
    "\n",
    "from numpy.random import randint\n",
    "from kmeans_resource import Kmeans as KM\n",
    "from skimage import io\n",
    "from ipywidgets import interact\n",
    "\n",
    "from scipy.stats import multivariate_normal\n",
    "from sklearn.mixture import GaussianMixture as GMM_new\n",
    "from sklearn.semi_supervised import label_propagation\n",
    "import itertools\n",
    "\n",
    "import warnings\n",
    "warnings.filterwarnings('ignore')"
   ]
  },
  {
   "cell_type": "markdown",
   "metadata": {},
   "source": [
    "### Perform $k$-means on an image\n",
    "### Clustering of colors\n",
    "\n",
    "* **Use 3 colors to represent the image.** \n",
    "\n",
    "* **How many clusters do you need for a perfect reproduction?**\n",
    "\n",
    "**Mark:** 1\n",
    "\n",
    "I closely followed the tutorial found at:<br>\n",
    "\n",
    "http://scikit-learn.org/stable/auto_examples/cluster/plot_color_quantization.html#sphx-glr-auto-examples-cluster-plot-color-quantization-py"
   ]
  },
  {
   "cell_type": "code",
   "execution_count": 3,
   "metadata": {},
   "outputs": [],
   "source": [
    "# Define function to recreate the image (Code exactly from tutorial)\n",
    "def recreate_image(codebook, labels, w, h):\n",
    "    \"\"\"Recreate the (compressed) image from the code book & labels\"\"\"\n",
    "    d = codebook.shape[1]\n",
    "    image = np.zeros((w, h, d))\n",
    "    label_idx = 0\n",
    "    for i in range(w):\n",
    "        for j in range(h):\n",
    "            image[i][j] = codebook[labels[label_idx]]\n",
    "            label_idx += 1\n",
    "    return image"
   ]
  },
  {
   "cell_type": "code",
   "execution_count": 4,
   "metadata": {},
   "outputs": [],
   "source": [
    "# Read in cartoon\n",
    "cartoon = io.imread('./cartoon.png')\n",
    "\n",
    "# Convert cartoon to normalised np array\n",
    "cartoon = np.array(cartoon, dtype=np.uint8) / 255\n",
    "\n",
    "# Get cartoon dimentions (width, height, channels/depth)\n",
    "w, h, d = original_shape = tuple(cartoon.shape)\n",
    "\n",
    "# Flatten the width and height while preserving the depth\n",
    "flat_cartoon = cartoon.reshape((w * h, d))"
   ]
  },
  {
   "cell_type": "code",
   "execution_count": 5,
   "metadata": {},
   "outputs": [],
   "source": [
    "# function that uses kmeans to do vector quantization - displays output\n",
    "def image_vec_quantize(n_vec, flat_image, return_image=False):\n",
    "    # Create and fit Kmeans model\n",
    "    model = KMeans(n_clusters=n_vec, init='k-means++',\n",
    "                   n_init=(5-np.int(np.log(n_vec))))\n",
    "    means = model.fit(flat_image)\n",
    "\n",
    "    # Predict new colors for image (may only be one of means)\n",
    "    new_colors = means.predict(flat_image)\n",
    "\n",
    "    # Create new cartoon using the function above and the new means\n",
    "    new_image = recreate_image(means.cluster_centers_, new_colors, w, h)\n",
    "    \n",
    "    if(return_image):\n",
    "        return new_image\n",
    "    else:\n",
    "         # Display the new image\n",
    "        plt.figure()\n",
    "        plt.title('Reconstruction using %d colors' % n_vec)\n",
    "        plt.imshow(new_image)\n",
    "        plt.show()"
   ]
  },
  {
   "cell_type": "code",
   "execution_count": 6,
   "metadata": {},
   "outputs": [
    {
     "data": {
      "image/png": "[encoded data removed]",
      "text/plain": [
       "<Figure size 432x288 with 1 Axes>"
      ]
     },
     "metadata": {},
     "output_type": "display_data"
    }
   ],
   "source": [
    "image_vec_quantize(3, flat_cartoon)"
   ]
  },
  {
   "cell_type": "markdown",
   "metadata": {},
   "source": [
    "We can see that the reconstruction using only 3 colors is actually very good.<br>\n",
    "Now let us investigate how many colors are needed for a perfect reconstruction."
   ]
  },
  {
   "cell_type": "code",
   "execution_count": 7,
   "metadata": {},
   "outputs": [
    {
     "name": "stderr",
     "output_type": "stream",
     "text": [
      "Clipping input data to the valid range for imshow with RGB data ([0..1] for floats or [0..255] for integers).\n"
     ]
    },
    {
     "name": "stdout",
     "output_type": "stream",
     "text": [
      "[[[1. 1. 1.]\n",
      "  [1. 1. 1.]\n",
      "  [1. 1. 1.]\n",
      "  ...\n",
      "  [1. 1. 1.]\n",
      "  [1. 1. 1.]\n",
      "  [1. 1. 1.]]\n",
      "\n",
      " [[1. 1. 1.]\n",
      "  [1. 1. 1.]\n",
      "  [1. 1. 1.]\n",
      "  ...\n",
      "  [1. 1. 1.]\n",
      "  [1. 1. 1.]\n",
      "  [1. 1. 1.]]\n",
      "\n",
      " [[1. 1. 1.]\n",
      "  [1. 1. 1.]\n",
      "  [1. 1. 1.]\n",
      "  ...\n",
      "  [1. 1. 1.]\n",
      "  [1. 1. 1.]\n",
      "  [1. 1. 1.]]\n",
      "\n",
      " ...\n",
      "\n",
      " [[1. 1. 1.]\n",
      "  [1. 1. 1.]\n",
      "  [1. 1. 1.]\n",
      "  ...\n",
      "  [1. 1. 1.]\n",
      "  [1. 1. 1.]\n",
      "  [1. 1. 1.]]\n",
      "\n",
      " [[1. 1. 1.]\n",
      "  [1. 1. 1.]\n",
      "  [1. 1. 1.]\n",
      "  ...\n",
      "  [1. 1. 1.]\n",
      "  [1. 1. 1.]\n",
      "  [1. 1. 1.]]\n",
      "\n",
      " [[1. 1. 1.]\n",
      "  [1. 1. 1.]\n",
      "  [1. 1. 1.]\n",
      "  ...\n",
      "  [1. 1. 1.]\n",
      "  [1. 1. 1.]\n",
      "  [1. 1. 1.]]]\n"
     ]
    },
    {
     "data": {
      "image/png": "[encoded data removed]",
      "text/plain": [
       "<Figure size 432x288 with 1 Axes>"
      ]
     },
     "metadata": {},
     "output_type": "display_data"
    }
   ],
   "source": [
    "# flatten the cartoon so that it is just a color (RGB) row vecotrs \n",
    "flat_cartoon = cartoon.reshape((1, -1, 3))[0, :, :]\n",
    "\n",
    "# create a np array that contains all the unique color row vectors\n",
    "unique_color_vectors = np.vstack({tuple(row) for row in flat_cartoon})\n",
    "\n",
    "# get the number of vectors in this array\n",
    "n_color_no_loss = unique_color_vectors.shape[0]\n",
    "\n",
    "# display a reconstruction of the image using this number of colors\n",
    "a = image_vec_quantize(n_color_no_loss, flat_cartoon, True)\n",
    "print(a)\n",
    "plt.figure() \n",
    "plt.imshow(a)\n",
    "plt.show()"
   ]
  },
  {
   "cell_type": "markdown",
   "metadata": {},
   "source": [
    "As expected, this reconstruction looks exactly like the original cartoon. But is it really necessary to use that many colors?<br>\n",
    "Let's find out:"
   ]
  },
  {
   "cell_type": "code",
   "execution_count": 8,
   "metadata": {},
   "outputs": [],
   "source": [
    "# create a series of reconstructions with a different number of colors\n",
    "n_cartoons = 20\n",
    "n_colors = 20\n",
    "n_cols = np.linspace(1, n_colors, n_cartoons).astype(int)\n",
    "cartoons = [\n",
    "    image_vec_quantize(n_col, flat_cartoon, True)\n",
    "    for n_col in n_cols\n",
    "]"
   ]
  },
  {
   "cell_type": "code",
   "execution_count": 9,
   "metadata": {},
   "outputs": [
    {
     "name": "stderr",
     "output_type": "stream",
     "text": [
      "Clipping input data to the valid range for imshow with RGB data ([0..1] for floats or [0..255] for integers).\n",
      "Clipping input data to the valid range for imshow with RGB data ([0..1] for floats or [0..255] for integers).\n",
      "Clipping input data to the valid range for imshow with RGB data ([0..1] for floats or [0..255] for integers).\n",
      "Clipping input data to the valid range for imshow with RGB data ([0..1] for floats or [0..255] for integers).\n",
      "Clipping input data to the valid range for imshow with RGB data ([0..1] for floats or [0..255] for integers).\n",
      "Clipping input data to the valid range for imshow with RGB data ([0..1] for floats or [0..255] for integers).\n",
      "Clipping input data to the valid range for imshow with RGB data ([0..1] for floats or [0..255] for integers).\n",
      "Clipping input data to the valid range for imshow with RGB data ([0..1] for floats or [0..255] for integers).\n",
      "Clipping input data to the valid range for imshow with RGB data ([0..1] for floats or [0..255] for integers).\n",
      "Clipping input data to the valid range for imshow with RGB data ([0..1] for floats or [0..255] for integers).\n",
      "Clipping input data to the valid range for imshow with RGB data ([0..1] for floats or [0..255] for integers).\n"
     ]
    },
    {
     "data": {
      "image/png": "[encoded data removed]",
      "text/plain": [
       "<Figure size 720x720 with 20 Axes>"
      ]
     },
     "metadata": {},
     "output_type": "display_data"
    }
   ],
   "source": [
    "# Plot these reconstructions\n",
    "fig = plt.figure(figsize=(10, np.ceil(n_cols.size/2)))\n",
    "count = 0\n",
    "for i in n_cols:\n",
    "    ax = fig.add_subplot(np.ceil(n_cols.size/5), 5, 1 + count)\n",
    "    ax.imshow(cartoons[count])\n",
    "    count+=1\n",
    "    plt.title('%d colors' % i)\n",
    "    plt.axis('off')\n",
    "plt.show()"
   ]
  },
  {
   "cell_type": "markdown",
   "metadata": {},
   "source": [
    "It is clear that a reconstruction that looks identical to the original to our eyes is possible with much less colors. Due to the random nature of the algorithm, the above (and below) images will not always be the same when running the program. Thus I do not know how good the reconstruction is that the reader sees, but I have observed a visually perfect reconstruction with as few as 14 colors."
   ]
  },
  {
   "cell_type": "code",
   "execution_count": 10,
   "metadata": {},
   "outputs": [
    {
     "name": "stderr",
     "output_type": "stream",
     "text": [
      "Clipping input data to the valid range for imshow with RGB data ([0..1] for floats or [0..255] for integers).\n"
     ]
    },
    {
     "data": {
      "image/png": "[encoded data removed]",
      "text/plain": [
       "<Figure size 432x288 with 1 Axes>"
      ]
     },
     "metadata": {},
     "output_type": "display_data"
    }
   ],
   "source": [
    "n_plot = 14\n",
    "plt.figure()\n",
    "plt.title('%d colors' % (n_plot + 1))\n",
    "plt.imshow(cartoons[n_plot])\n",
    "plt.show()"
   ]
  },
  {
   "cell_type": "markdown",
   "metadata": {},
   "source": [
    "# Clustering of digits data\n",
    "### Load the digit datasets\n",
    "\n",
    "The datasets are loaded into a dictionary."
   ]
  },
  {
   "cell_type": "code",
   "execution_count": 11,
   "metadata": {},
   "outputs": [],
   "source": [
    "# Import `datasets` from `sklearn`\n",
    "from sklearn import datasets\n",
    "\n",
    "# Load in the `digits` data\n",
    "digits = datasets.load_digits()"
   ]
  },
  {
   "cell_type": "code",
   "execution_count": 12,
   "metadata": {},
   "outputs": [],
   "source": [
    "# Find the number of unique labels\n",
    "number_digits = len(np.unique(digits.target))"
   ]
  },
  {
   "cell_type": "markdown",
   "metadata": {},
   "source": [
    "# Project onto 2 PCA components\n",
    "\n",
    "**Use the scikit-learn module and project the digits data onto 2 principal components. Display the clusters in different colors using the known labels.**\n",
    "\n",
    "**Marks:** 1"
   ]
  },
  {
   "cell_type": "code",
   "execution_count": 13,
   "metadata": {},
   "outputs": [],
   "source": [
    "# Create a regular PCA model\n",
    "pca = PCA(n_components=2)\n",
    "\n",
    "# Flatten the data so that it can be fed into the PCA model\n",
    "flat = digits.images.reshape((digits.images.shape[0], 1, -1))\n",
    "flat = flat[:, 0, :]\n",
    "\n",
    "# Fit and transform the data to the model\n",
    "pca.fit(flat)\n",
    "reduced_data_pca = pca.transform(flat)"
   ]
  },
  {
   "cell_type": "code",
   "execution_count": 14,
   "metadata": {},
   "outputs": [
    {
     "data": {
      "image/png": "[encoded data removed]",
      "text/plain": [
       "<Figure size 432x288 with 1 Axes>"
      ]
     },
     "metadata": {},
     "output_type": "display_data"
    }
   ],
   "source": [
    "colors = ['black', 'blue', 'purple', 'yellow',\n",
    "          'white', 'red', 'lime', 'cyan',\n",
    "          'orange', 'gray']\n",
    "for i in range(len(colors)):\n",
    "    x = reduced_data_pca[:, 0][digits.target == i]\n",
    "    y = reduced_data_pca[:, 1][digits.target == i]\n",
    "    plt.scatter(-x, -y, c=colors[i], edgecolor='black')\n",
    "plt.legend(digits.target_names, bbox_to_anchor=(1.05, 1),\n",
    "           loc=2, borderaxespad=0.)\n",
    "plt.xlabel('First Principal Component')\n",
    "plt.ylabel('Second Principal Component')\n",
    "plt.title(\"Regular PCA Scatter Plot\")\n",
    "plt.show()"
   ]
  },
  {
   "cell_type": "markdown",
   "metadata": {},
   "source": [
    "We can see that using PCA we could get decent class separation between **some** of the digits, but **definitely not when looking at all the digits**."
   ]
  },
  {
   "cell_type": "markdown",
   "metadata": {},
   "source": [
    "# LDA\n",
    "\n",
    "**Now do the same as for PCA but now project onto 2 LDA components to get the following:**\n",
    "\n",
    "**Marks: 0**"
   ]
  },
  {
   "cell_type": "code",
   "execution_count": 15,
   "metadata": {},
   "outputs": [],
   "source": [
    "# Create a regular LDA model\n",
    "lda = LDA(n_components=2)\n",
    "\n",
    "# Get labels\n",
    "labels = digits.target\n",
    "\n",
    "# Fit and transform the data to the model\n",
    "lda.fit(flat, labels)\n",
    "reduced_data_lda = lda.transform(flat)"
   ]
  },
  {
   "cell_type": "code",
   "execution_count": 16,
   "metadata": {},
   "outputs": [
    {
     "data": {
      "image/png": "[encoded data removed]",
      "text/plain": [
       "<Figure size 432x288 with 1 Axes>"
      ]
     },
     "metadata": {},
     "output_type": "display_data"
    }
   ],
   "source": [
    "colors = ['black', 'blue', 'purple', 'yellow',\n",
    "          'white', 'red', 'lime', 'cyan',\n",
    "          'orange', 'gray']\n",
    "for i in range(len(colors)):\n",
    "    x = reduced_data_lda[:, 0][digits.target == i]\n",
    "    y = reduced_data_lda[:, 1][digits.target == i]\n",
    "    plt.scatter(x, y, c=colors[i], edgecolor='black')\n",
    "plt.legend(digits.target_names, bbox_to_anchor=(1.05, 1),\n",
    "           loc=2, borderaxespad=0.)\n",
    "plt.xlabel('First Principal Component')\n",
    "plt.ylabel('Second Principal Component')\n",
    "plt.title(\"Regular LDA Scatter Plot\")\n",
    "plt.show()"
   ]
  },
  {
   "cell_type": "markdown",
   "metadata": {},
   "source": [
    "LDA is designed to deliver a lower dimension projection of the data that ensures the greatest class separation. Unfortunately, the above plot shows that LDA has not given a much better projection of the data (in terms of class separation). This shows us that the data cannot be accurately represented (and divided into classes) in 2 dimensions. Later in this report I will explore how many dimensions one would need to accurately divide the data into classes."
   ]
  },
  {
   "cell_type": "markdown",
   "metadata": {},
   "source": [
    "# Clustering the digits data\n",
    "### Split the data into test and training sets\n",
    "\n",
    "scikit-learn provides a convenient function to split given data into training, validation and test sets in its model_selection package.  Let's do that first."
   ]
  },
  {
   "cell_type": "code",
   "execution_count": 17,
   "metadata": {},
   "outputs": [],
   "source": [
    "# Import `train_test_split`\n",
    "from sklearn.model_selection import train_test_split\n",
    "\n",
    "# Split the `digits` data into training and test sets\n",
    "X_train, X_test, y_train, y_test, images_train, images_test =\\\n",
    "train_test_split(digits.data, digits.target,\n",
    "                 digits.images, test_size=0.25,\n",
    "                 random_state=42)"
   ]
  },
  {
   "cell_type": "code",
   "execution_count": 18,
   "metadata": {},
   "outputs": [],
   "source": [
    "# Number of training features\n",
    "n_samples, n_features = X_train.shape\n",
    "n_digits = np.unique(y_train).size"
   ]
  },
  {
   "cell_type": "markdown",
   "metadata": {},
   "source": [
    "### K-means model\n",
    "\n",
    "**Create the k-means model and display the means.**\n",
    "\n",
    "**Marks:** 0\n",
    "\n",
    "I closely followed the tutorial found at:<br>\n",
    "\n",
    "http://scikit-learn.org/stable/auto_examples/cluster/plot_kmeans_digits.html#sphx-glr-auto-examples-cluster-plot-kmeans-digits-py"
   ]
  },
  {
   "cell_type": "code",
   "execution_count": 19,
   "metadata": {},
   "outputs": [],
   "source": [
    "# function for easy plotting of digits\n",
    "def plot_digits(digits, title):\n",
    "    # Figure size in inches\n",
    "    fig = plt.figure(figsize=(10, 4))\n",
    "\n",
    "    # Add title\n",
    "    fig.suptitle(title, fontsize=14, fontweight='bold')\n",
    "\n",
    "    # For all labels (0-9)\n",
    "    for i in range(10):\n",
    "        # Initialize subplots in a grid of 2X5, at i+1th position\n",
    "        ax = fig.add_subplot(2, 5, 1 + i)\n",
    "        # Get dimension\n",
    "        d = np.sqrt(digits[i].shape[0])\n",
    "        # Display images\n",
    "        ax.imshow(digits[i].reshape((d, d)), cmap=plt.cm.binary)\n",
    "        # Don't show the axes\n",
    "        plt.axis('off')\n",
    "\n",
    "    # Show the plot\n",
    "    plt.show()"
   ]
  },
  {
   "cell_type": "code",
   "execution_count": 20,
   "metadata": {},
   "outputs": [],
   "source": [
    "# Create the KMeans model\n",
    "model = KMeans(n_clusters=n_digits, init='k-means++', random_state=42)\n",
    "\n",
    "# Fit the training data to the model\n",
    "means = model.fit(X_train)\n",
    "\n",
    "# Retrieve the cluster centres\n",
    "cluster_centers = means.cluster_centers_"
   ]
  },
  {
   "cell_type": "code",
   "execution_count": 21,
   "metadata": {},
   "outputs": [
    {
     "ename": "TypeError",
     "evalue": "'numpy.float64' object cannot be interpreted as an integer",
     "output_type": "error",
     "traceback": [
      "\u001b[0;31m---------------------------------------------------------------------------\u001b[0m",
      "\u001b[0;31mTypeError\u001b[0m                                 Traceback (most recent call last)",
      "\u001b[0;32m<ipython-input-21-714cdd43cb89>\u001b[0m in \u001b[0;36m<module>\u001b[0;34m()\u001b[0m\n\u001b[0;32m----> 1\u001b[0;31m \u001b[0mplot_digits\u001b[0m\u001b[0;34m(\u001b[0m\u001b[0mcluster_centers\u001b[0m\u001b[0;34m,\u001b[0m \u001b[0;34m'Cluster Center Images'\u001b[0m\u001b[0;34m)\u001b[0m\u001b[0;34m\u001b[0m\u001b[0m\n\u001b[0m",
      "\u001b[0;32m<ipython-input-19-618b2a830ab2>\u001b[0m in \u001b[0;36mplot_digits\u001b[0;34m(digits, title)\u001b[0m\n\u001b[1;32m     14\u001b[0m         \u001b[0md\u001b[0m \u001b[0;34m=\u001b[0m \u001b[0mnp\u001b[0m\u001b[0;34m.\u001b[0m\u001b[0msqrt\u001b[0m\u001b[0;34m(\u001b[0m\u001b[0mdigits\u001b[0m\u001b[0;34m[\u001b[0m\u001b[0mi\u001b[0m\u001b[0;34m]\u001b[0m\u001b[0;34m.\u001b[0m\u001b[0mshape\u001b[0m\u001b[0;34m[\u001b[0m\u001b[0;36m0\u001b[0m\u001b[0;34m]\u001b[0m\u001b[0;34m)\u001b[0m\u001b[0;34m\u001b[0m\u001b[0m\n\u001b[1;32m     15\u001b[0m         \u001b[0;31m# Display images\u001b[0m\u001b[0;34m\u001b[0m\u001b[0;34m\u001b[0m\u001b[0m\n\u001b[0;32m---> 16\u001b[0;31m         \u001b[0max\u001b[0m\u001b[0;34m.\u001b[0m\u001b[0mimshow\u001b[0m\u001b[0;34m(\u001b[0m\u001b[0mdigits\u001b[0m\u001b[0;34m[\u001b[0m\u001b[0mi\u001b[0m\u001b[0;34m]\u001b[0m\u001b[0;34m.\u001b[0m\u001b[0mreshape\u001b[0m\u001b[0;34m(\u001b[0m\u001b[0;34m(\u001b[0m\u001b[0md\u001b[0m\u001b[0;34m,\u001b[0m \u001b[0md\u001b[0m\u001b[0;34m)\u001b[0m\u001b[0;34m)\u001b[0m\u001b[0;34m,\u001b[0m \u001b[0mcmap\u001b[0m\u001b[0;34m=\u001b[0m\u001b[0mplt\u001b[0m\u001b[0;34m.\u001b[0m\u001b[0mcm\u001b[0m\u001b[0;34m.\u001b[0m\u001b[0mbinary\u001b[0m\u001b[0;34m)\u001b[0m\u001b[0;34m\u001b[0m\u001b[0m\n\u001b[0m\u001b[1;32m     17\u001b[0m         \u001b[0;31m# Don't show the axes\u001b[0m\u001b[0;34m\u001b[0m\u001b[0;34m\u001b[0m\u001b[0m\n\u001b[1;32m     18\u001b[0m         \u001b[0mplt\u001b[0m\u001b[0;34m.\u001b[0m\u001b[0maxis\u001b[0m\u001b[0;34m(\u001b[0m\u001b[0;34m'off'\u001b[0m\u001b[0;34m)\u001b[0m\u001b[0;34m\u001b[0m\u001b[0m\n",
      "\u001b[0;31mTypeError\u001b[0m: 'numpy.float64' object cannot be interpreted as an integer"
     ]
    },
    {
     "data": {
      "image/png": "[encoded data removed]",
      "text/plain": [
       "<Figure size 720x288 with 1 Axes>"
      ]
     },
     "metadata": {},
     "output_type": "display_data"
    }
   ],
   "source": [
    "plot_digits(cluster_centers, 'Cluster Center Images')"
   ]
  },
  {
   "cell_type": "markdown",
   "metadata": {},
   "source": [
    "These means look quite good. One fairly easily distinguish each digit, with the occasional exception of the eight and the one. Those two digits can rather easily be confused."
   ]
  },
  {
   "cell_type": "markdown",
   "metadata": {},
   "source": [
    "# Confusion matrix\n",
    "\n",
    "**Predict the labels using the k-means model you created above. Compare against the known labels using a confusion matrix.**\n",
    "\n",
    "**Explain what you see, and comment on the accuracy of the predicted labels.** \n",
    "\n",
    "**Marks: 1**<br>\n",
    "\n",
    "plotting function got from:<br>\n",
    "\n",
    "http://scikit-learn.org/stable/auto_examples/model_selection/plot_confusion_matrix.html"
   ]
  },
  {
   "cell_type": "code",
   "execution_count": null,
   "metadata": {},
   "outputs": [],
   "source": [
    "# function to plot confusion matrix\n",
    "def plot_confusion_matrix(cm, classes,\n",
    "                          normalize=False,\n",
    "                          title='Confusion matrix',\n",
    "                          cmap=plt.cm.Blues):\n",
    "    \"\"\"\n",
    "    This function prints and plots the confusion matrix.\n",
    "    Normalization can be applied by setting `normalize=True`.\n",
    "    \"\"\"\n",
    "    plt.imshow(cm, interpolation='nearest', cmap=cmap)\n",
    "    plt.title(title)\n",
    "    plt.colorbar()\n",
    "    tick_marks = np.arange(len(classes))\n",
    "    plt.xticks(tick_marks, classes, rotation=45)\n",
    "    plt.yticks(tick_marks, classes)\n",
    "\n",
    "    if normalize:\n",
    "        cm = cm.astype('float') / cm.sum(axis=1)[:, np.newaxis]\n",
    "        print(\"Normalized confusion matrix\")\n",
    "    else:\n",
    "        print('Confusion matrix, without normalization')\n",
    "\n",
    "    thresh = cm.max() / 2.\n",
    "    for i, j in itertools.product(range(cm.shape[0]), range(cm.shape[1])):\n",
    "        plt.text(j, i, cm[i, j],\n",
    "                 horizontalalignment=\"center\",\n",
    "                 color=\"white\" if cm[i, j] > thresh else \"black\")\n",
    "\n",
    "    plt.tight_layout()\n",
    "    plt.ylabel('True label')\n",
    "    plt.xlabel('Predicted label')"
   ]
  },
  {
   "cell_type": "code",
   "execution_count": null,
   "metadata": {},
   "outputs": [],
   "source": [
    "# function that displays the confusion matrix stats\n",
    "def confusion_matrix_stats(model, data, labels, axis, title=None):\n",
    "    # Predict the labels for `data`\n",
    "    predicted_labels = model.predict(data)\n",
    "\n",
    "    # Print out the confusion matrix with `confusion_matrix()`\n",
    "    con_mat = confusion_matrix(labels, predicted_labels)\n",
    "\n",
    "    plt.figure()\n",
    "    if title:\n",
    "        plot_confusion_matrix(con_mat, axis, title=title)\n",
    "    else:\n",
    "        plot_confusion_matrix(con_mat, axis)"
   ]
  },
  {
   "cell_type": "code",
   "execution_count": null,
   "metadata": {},
   "outputs": [],
   "source": [
    "# confusion matrix of training data\n",
    "confusion_matrix_stats(means, X_train, y_train, ['N/A']*10,\n",
    "                       'Confusion Matrix of trianing data')"
   ]
  },
  {
   "cell_type": "code",
   "execution_count": null,
   "metadata": {},
   "outputs": [],
   "source": [
    "confusion_matrix_stats(means, X_test, y_test, ['N/A']*10,\n",
    "                      'Confusion Matrix of test data')"
   ]
  },
  {
   "cell_type": "markdown",
   "metadata": {},
   "source": [
    "From the confusion matrix we have no (trivial) way of knowing which cluster (or mean) corresponds to a given digit.<br>\n",
    "\n",
    "There are other problems with the confusion matrix than the format of it. We can see that there are digits that the model has some trouble distinguishing between. We can see this when there are rows or columns with similar intensity (or magnitude of number) colored squares."
   ]
  },
  {
   "cell_type": "markdown",
   "metadata": {},
   "source": [
    "# Really bad \n",
    "\n",
    "* **Next initialize the k-means algorithm by providing one random sample from each class as the initial mean estimate for each cluster.**\n",
    "\n",
    "* **Again plot the class means as above, predict the labels of the training data, and show the confusion matrix. Is there any improvement?**\n",
    "\n",
    "**Marks: 1**"
   ]
  },
  {
   "cell_type": "code",
   "execution_count": null,
   "metadata": {},
   "outputs": [],
   "source": [
    "# Get a random example from each class\n",
    "rand_estimates = np.zeros((10, 64))\n",
    "\n",
    "for i in np.arange(0, 10):\n",
    "    X_i = X_train[y_train == i]\n",
    "    rand_example = X_i[randint(0, X_i.shape[0]-1)]\n",
    "    rand_estimates[i] = rand_example\n",
    "\n",
    "# Plot the initial mean estimates\n",
    "plot_digits(rand_estimates, 'Random Estimates - Initial Means')\n",
    "    \n",
    "# Create the KMeans model\n",
    "model = KMeans(n_clusters=n_digits, init=rand_estimates,\n",
    "               n_init=1, random_state=42)\n",
    "\n",
    "# Fit the training data to the model\n",
    "means = model.fit(X_train)\n",
    "\n",
    "# Retrieve the cluster centres\n",
    "cluster_centers = means.cluster_centers_\n",
    "\n",
    "# Plot means and confusion matrix\n",
    "plot_digits(cluster_centers, 'Cluster Center Images')\n",
    "confusion_matrix_stats(means, X_test, y_test, np.arange(10))"
   ]
  },
  {
   "cell_type": "markdown",
   "metadata": {},
   "source": [
    "This confusion matrix is better because the format of the data is conserved and one can read off the model predictions very easily, and the model seems to be find better cluster centers more consistently.<br>\n",
    "\n",
    "We can see that the accuracy of the model is greatly dependent on the initial examples given to the model. If the model is given a 'good' example of the class as an initial value, it tends to be accurate. I the model is given a 'bad' example of the class as an initial value, the model tends to do poorly.<br>\n",
    "\n",
    "The model sometimes has trouble predicting 3 (often mistaken for a 9), 1 (often mistaken for an 8 or 9) and 5 (often mistaken for a 9) accurately. This is quite understandable when we look at the cluster centers for the classes. The cluster centers are often an inaccurate representation of the class.<br>\n",
    "\n",
    "While this model cannot take in multiple initial mean examples, one could simulate this in a way by getting multiple examples of each class and calculating the mean of the data for each class. You could then feed this into the model as it's initial mean."
   ]
  },
  {
   "cell_type": "markdown",
   "metadata": {},
   "source": [
    "# Semi-supervised training"
   ]
  },
  {
   "cell_type": "code",
   "execution_count": null,
   "metadata": {},
   "outputs": [],
   "source": [
    "# Random initialization \n",
    "km = KM(codes=10,itr=20)\n",
    "km.fit(X_train)\n",
    "cluster_centers = km.get_means"
   ]
  },
  {
   "cell_type": "code",
   "execution_count": null,
   "metadata": {},
   "outputs": [],
   "source": [
    "plot_digits(cluster_centers, 'Cluster Center Images')"
   ]
  },
  {
   "cell_type": "markdown",
   "metadata": {},
   "source": [
    "# Creating Data"
   ]
  },
  {
   "cell_type": "code",
   "execution_count": null,
   "metadata": {},
   "outputs": [],
   "source": [
    "# The number of samples per class\n",
    "n_samples = 2\n",
    "\n",
    "# The same number of samples is generated for each class. This is just\n",
    "# a convenience, any number will do. Note: Assume at least one sample for \n",
    "# each class\n",
    "X_lbl = np.zeros((10*n_samples,64))\n",
    "y_lbl = np.zeros((10*n_samples,))\n",
    "for i in range(10):\n",
    "    dat = X_test[y_test==i,:]\n",
    "    samples = np.random.randint(0,dat.shape[0]-1,n_samples)\n",
    "\n",
    "    X_lbl[i*n_samples:(i+1)*n_samples] = dat[samples]\n",
    "    y_lbl[i*n_samples:(i+1)*n_samples] = i\n",
    "\n",
    "plot_digits(X_lbl[::n_samples], 'Labeled Images');"
   ]
  },
  {
   "cell_type": "markdown",
   "metadata": {},
   "source": [
    "#### Modify code\n",
    "\n",
    "* **Modify the given k-means code to allow semi-supervised learning.**\n",
    "* **Predict the labels in the training set and print the confusion matrix.**\n",
    "\n",
    "**Marks:** 4<br>\n",
    "\n",
    "3 missing lines:<br>\n",
    "\n",
    "1st pass block: `means = self.init_means_lbl_(X_label, y)`<br>\n",
    "\n",
    "2nd pass block: `dat = np.vstack([dat, X_label[y == i]])`<br>\n",
    "\n",
    "3rd pass block: `means[i] = np.mean(X_label[y == i], axis=0)`<br>"
   ]
  },
  {
   "cell_type": "code",
   "execution_count": null,
   "metadata": {},
   "outputs": [],
   "source": [
    "# 3 missing lines:\n",
    "def missing_code():\n",
    "    return\n",
    "    # first pass:\n",
    "    means = self.init_means_lbl_(X_label, y)\n",
    "    # second pass:\n",
    "    dat = np.vstack([dat, X_label[y == i]])\n",
    "    # third pass:\n",
    "    means[i] = np.mean(X_label[y == i], axis=0)"
   ]
  },
  {
   "cell_type": "code",
   "execution_count": null,
   "metadata": {},
   "outputs": [],
   "source": [
    "km = KM(codes=10,itr=20)\n",
    "km.fit(X_train,X_lbl,y_lbl)\n",
    "km_cluster_centers = km.get_means"
   ]
  },
  {
   "cell_type": "code",
   "execution_count": null,
   "metadata": {},
   "outputs": [],
   "source": [
    "plot_digits(km_cluster_centers, 'Cluster Center Images');"
   ]
  },
  {
   "cell_type": "markdown",
   "metadata": {},
   "source": [
    "These cluster centers look like very good representations of the data. These results are far better than the case of using pure unsupervised learning."
   ]
  },
  {
   "cell_type": "markdown",
   "metadata": {},
   "source": [
    "# Confusion matrix\n",
    "\n",
    "In this case we don't have the identifiability problem as indicated by the confusion matrix."
   ]
  },
  {
   "cell_type": "code",
   "execution_count": null,
   "metadata": {},
   "outputs": [],
   "source": [
    "confusion_matrix_stats(km, X_train, y_train, np.arange(10),\n",
    "                      'Confusion Matrix of training data')"
   ]
  },
  {
   "cell_type": "code",
   "execution_count": null,
   "metadata": {},
   "outputs": [],
   "source": [
    "confusion_matrix_stats(km, X_test, y_test, np.arange(10),\n",
    "                      'Confusion Matrix of test data')"
   ]
  },
  {
   "cell_type": "markdown",
   "metadata": {},
   "source": [
    "We can see from the confusion matrix that this model is far more accurate than the unsupervised k-means model. This model can distinguish between digits far more easily and accurately.<br>\n",
    "\n",
    "This shows the power of having just a very small amount of labeled data. With just 2 examples of each class to use in a supervised manner we were able to increase the model's accuracy considerably.<br>\n",
    "\n",
    "I would have liked investigate how the accuracy changes as you increase the number of examples you use in a supervised manner, but due to time constraints I am not able to."
   ]
  },
  {
   "cell_type": "markdown",
   "metadata": {},
   "source": [
    "# GMM\n",
    "\n",
    "* **Next, fit the data to a 10 component GMM model, using the scikit-learn package.**\n",
    "* **Once you have built the GMM model, extract the means as well as the covariances of the 10 GMM components. Display the means to get something like the  image below.**\n",
    "\n",
    "**Marks: 1**"
   ]
  },
  {
   "cell_type": "code",
   "execution_count": 22,
   "metadata": {},
   "outputs": [],
   "source": [
    "data = digits.data\n",
    "\n",
    "np.random.seed(1)\n",
    "gmm = GMM(n_components=10)\n",
    "gmm.fit(data)\n",
    "gmm_means = gmm.means_"
   ]
  },
  {
   "cell_type": "code",
   "execution_count": 23,
   "metadata": {},
   "outputs": [
    {
     "ename": "TypeError",
     "evalue": "'numpy.float64' object cannot be interpreted as an integer",
     "output_type": "error",
     "traceback": [
      "\u001b[0;31m---------------------------------------------------------------------------\u001b[0m",
      "\u001b[0;31mTypeError\u001b[0m                                 Traceback (most recent call last)",
      "\u001b[0;32m<ipython-input-23-9089867b9188>\u001b[0m in \u001b[0;36m<module>\u001b[0;34m()\u001b[0m\n\u001b[0;32m----> 1\u001b[0;31m \u001b[0mplot_digits\u001b[0m\u001b[0;34m(\u001b[0m\u001b[0mgmm_means\u001b[0m\u001b[0;34m,\u001b[0m \u001b[0;34m'Cluster Center Images'\u001b[0m\u001b[0;34m)\u001b[0m\u001b[0;34m\u001b[0m\u001b[0m\n\u001b[0m",
      "\u001b[0;32m<ipython-input-19-618b2a830ab2>\u001b[0m in \u001b[0;36mplot_digits\u001b[0;34m(digits, title)\u001b[0m\n\u001b[1;32m     14\u001b[0m         \u001b[0md\u001b[0m \u001b[0;34m=\u001b[0m \u001b[0mnp\u001b[0m\u001b[0;34m.\u001b[0m\u001b[0msqrt\u001b[0m\u001b[0;34m(\u001b[0m\u001b[0mdigits\u001b[0m\u001b[0;34m[\u001b[0m\u001b[0mi\u001b[0m\u001b[0;34m]\u001b[0m\u001b[0;34m.\u001b[0m\u001b[0mshape\u001b[0m\u001b[0;34m[\u001b[0m\u001b[0;36m0\u001b[0m\u001b[0;34m]\u001b[0m\u001b[0;34m)\u001b[0m\u001b[0;34m\u001b[0m\u001b[0m\n\u001b[1;32m     15\u001b[0m         \u001b[0;31m# Display images\u001b[0m\u001b[0;34m\u001b[0m\u001b[0;34m\u001b[0m\u001b[0m\n\u001b[0;32m---> 16\u001b[0;31m         \u001b[0max\u001b[0m\u001b[0;34m.\u001b[0m\u001b[0mimshow\u001b[0m\u001b[0;34m(\u001b[0m\u001b[0mdigits\u001b[0m\u001b[0;34m[\u001b[0m\u001b[0mi\u001b[0m\u001b[0;34m]\u001b[0m\u001b[0;34m.\u001b[0m\u001b[0mreshape\u001b[0m\u001b[0;34m(\u001b[0m\u001b[0;34m(\u001b[0m\u001b[0md\u001b[0m\u001b[0;34m,\u001b[0m \u001b[0md\u001b[0m\u001b[0;34m)\u001b[0m\u001b[0;34m)\u001b[0m\u001b[0;34m,\u001b[0m \u001b[0mcmap\u001b[0m\u001b[0;34m=\u001b[0m\u001b[0mplt\u001b[0m\u001b[0;34m.\u001b[0m\u001b[0mcm\u001b[0m\u001b[0;34m.\u001b[0m\u001b[0mbinary\u001b[0m\u001b[0;34m)\u001b[0m\u001b[0;34m\u001b[0m\u001b[0m\n\u001b[0m\u001b[1;32m     17\u001b[0m         \u001b[0;31m# Don't show the axes\u001b[0m\u001b[0;34m\u001b[0m\u001b[0;34m\u001b[0m\u001b[0m\n\u001b[1;32m     18\u001b[0m         \u001b[0mplt\u001b[0m\u001b[0;34m.\u001b[0m\u001b[0maxis\u001b[0m\u001b[0;34m(\u001b[0m\u001b[0;34m'off'\u001b[0m\u001b[0;34m)\u001b[0m\u001b[0;34m\u001b[0m\u001b[0m\n",
      "\u001b[0;31mTypeError\u001b[0m: 'numpy.float64' object cannot be interpreted as an integer"
     ]
    },
    {
     "data": {
      "image/png": "[encoded data removed]",
      "text/plain": [
       "<Figure size 720x288 with 1 Axes>"
      ]
     },
     "metadata": {},
     "output_type": "display_data"
    }
   ],
   "source": [
    "plot_digits(gmm_means, 'Cluster Center Images')"
   ]
  },
  {
   "cell_type": "markdown",
   "metadata": {},
   "source": [
    "These cluster centers are about as good as the unsupervised k-means model's cluster centers."
   ]
  },
  {
   "cell_type": "code",
   "execution_count": null,
   "metadata": {},
   "outputs": [],
   "source": [
    "confusion_matrix_stats(gmm, X_test, y_test, ['N/A']*10)"
   ]
  },
  {
   "cell_type": "markdown",
   "metadata": {},
   "source": [
    "The GMM seems to have the same problems as the unsupervised k-means model. The confusion matrix format is off and and the accuracy of the model is too low.<br>\n",
    "\n",
    "This begs the question: \"Why would we the want to use a GMM?\"<br>\n",
    "\n",
    "We know that GMM's take far longer to train and by this example we can see that they are not always better.<br>\n",
    "\n",
    "There are actually multiple reasons for using GMM's over k-means models. The first of which is that it is not constrained by linear decision boundaries. The k-means model classifies points with a nearest neighbour approach (hard classifications) and the GMM uses the cluster centers and the class covariances to calculate the probability of a given observation being in each class (soft classifications). This allows a GMM to have non-linear decision boundaries and fit more complex data.<br>\n",
    "\n",
    "Another reason to use GMM is because it gives us a distribution over our data. This allows us to generate samples of our data:"
   ]
  },
  {
   "cell_type": "markdown",
   "metadata": {},
   "source": [
    "# Generate samples\n",
    "\n",
    "* **Use the means and covariances of the different components and draw a sample from each component.**\n",
    "* **Display the samples in an image.**\n",
    "\n",
    "**Marks:** 1"
   ]
  },
  {
   "cell_type": "code",
   "execution_count": null,
   "metadata": {},
   "outputs": [],
   "source": [
    "# function that returns generated samples\n",
    "def gen_samples(mean, covar):\n",
    "    samples = [\n",
    "            multivariate_normal.rvs(\n",
    "            mean=mean[i],\n",
    "            cov=covar[i]\n",
    "        )\n",
    "        for i in np.arange(10)\n",
    "    ]\n",
    "    return samples"
   ]
  },
  {
   "cell_type": "code",
   "execution_count": null,
   "metadata": {},
   "outputs": [],
   "source": [
    "gmm_covars = gmm.covars_\n",
    "samples = gen_samples(gmm_means, gmm_covars)"
   ]
  },
  {
   "cell_type": "code",
   "execution_count": null,
   "metadata": {},
   "outputs": [],
   "source": [
    "plot_digits(samples, 'Generated Sample Images')"
   ]
  },
  {
   "cell_type": "markdown",
   "metadata": {},
   "source": [
    "We can see that these generated examples are not very good. If we try hard we can distinguish which digit is which (the digits in decreasing order or ease is: 0, 6, 5, 3, 9, 8, 4, 7, 2, 1). However, the GMM does not seem to be able to generate good examples of each class. This is not unexpected as the GMM was not very accurate at clustering the digits in the first place. Later in the report I will explore ways of increasing the accuracy of a GMM and coaxing a GMM to generate better examples."
   ]
  },
  {
   "cell_type": "markdown",
   "metadata": {},
   "source": [
    "# EXTRAS\n",
    "**Check true dimensionality of digit data:**"
   ]
  },
  {
   "cell_type": "code",
   "execution_count": null,
   "metadata": {},
   "outputs": [],
   "source": [
    "# Create a regular PCA model\n",
    "pca = PCA(n_components=64)\n",
    "\n",
    "# Fit and transform the data to the model\n",
    "pca.fit(flat)\n",
    "\n",
    "plt.figure()\n",
    "plt.title('Explained Variance ratio')\n",
    "plt.xlabel('number of principle components')\n",
    "plt.plot(range(1, 65), pca.explained_variance_ratio_)\n",
    "plt.show()"
   ]
  },
  {
   "cell_type": "markdown",
   "metadata": {},
   "source": [
    "From the explained variance ratio calculated by the PCA model we can clearly see that the digit data is not 2 dimensional. There is a fairly vast amount of information lost in the higher principle components. There seems to be very little information contained in principle components above the 20th principle component. Thus if I had to choose a lower dimensional subspace to represent the digits it would be roughly a 20 dimensional subspace.<br>\n",
    "\n",
    "Let us look at the explained variance ratio calculated by the LDA model."
   ]
  },
  {
   "cell_type": "code",
   "execution_count": null,
   "metadata": {},
   "outputs": [],
   "source": [
    "# Create a regular LDA model\n",
    "lda = LDA(n_components=9)\n",
    "\n",
    "# Fit and transform the data to the model\n",
    "lda.fit(flat, labels)\n",
    "\n",
    "plt.figure()\n",
    "plt.title('Explained Variance ratio')\n",
    "plt.xlabel('number of principle components')\n",
    "plt.plot(range(1, 10), lda.explained_variance_ratio_)\n",
    "plt.show()"
   ]
  },
  {
   "cell_type": "markdown",
   "metadata": {},
   "source": [
    "This plot makes it even more clear that the digits data cannot be accurately represented in a 2 dimensional subspace. It is important to note that the nature of the LDA model is such that you cannot have more principle components than the number of classes (the maximum amount is one less than the number of classes). Thus we are forced to use a much lower dimensional subspace than we would use if we used a PCA model. However it seems that it is possible to represent the digit data in a lower dimensional subspace that would conserve a great deal of the information and maximize class separation.<br>\n",
    "\n",
    "Let's see what happens when we use unsupervised learning to classify this lower dimension data:<br>\n",
    "\n",
    "First we split the data into a training and a test set (same with the labels):"
   ]
  },
  {
   "cell_type": "code",
   "execution_count": null,
   "metadata": {},
   "outputs": [],
   "source": [
    "lda_digits = lda.transform(flat)\n",
    "\n",
    "split_index = lda_digits.shape[0] * 0.8\n",
    "lda_digit_train = lda_digits[:split_index]\n",
    "labels_train = labels[:split_index]\n",
    "lda_digit_test = lda_digits[split_index:]\n",
    "labels_test = labels[split_index:]"
   ]
  },
  {
   "cell_type": "markdown",
   "metadata": {},
   "source": [
    "Then we fit a k-means model to the training data and have a look at the models accuracy."
   ]
  },
  {
   "cell_type": "code",
   "execution_count": null,
   "metadata": {},
   "outputs": [],
   "source": [
    "model = KMeans(n_clusters=n_digits, init='k-means++')\n",
    "means = model.fit(lda_digit_train)\n",
    "confusion_matrix_stats(means, lda_digit_test, labels_test, ['N/A']*10)"
   ]
  },
  {
   "cell_type": "markdown",
   "metadata": {},
   "source": [
    "It is clear that this dimensionality reduction has made it far easier for the model to find accurate cluster centers. We can see this as every column and row has a single square that has a much larger magnitude than the rest.<br>\n",
    "\n",
    "For the sake of visualization we can feed the model some random initial means:"
   ]
  },
  {
   "cell_type": "code",
   "execution_count": null,
   "metadata": {},
   "outputs": [],
   "source": [
    "# Get a random example from each class\n",
    "rand_estimates = np.zeros((10, 9))\n",
    "for i in np.arange(0, 10):\n",
    "    X_i = lda_digit_train[labels_train == i]\n",
    "    rand_example = X_i[randint(0, X_i.shape[0]-1)]\n",
    "    rand_estimates[i] = rand_example\n",
    "    \n",
    "model = KMeans(n_clusters=n_digits, init=rand_estimates, n_init=1)\n",
    "means = model.fit(lda_digit_train)\n",
    "confusion_matrix_stats(means, lda_digit_test, labels_test, np.arange(10))"
   ]
  },
  {
   "cell_type": "markdown",
   "metadata": {},
   "source": [
    "Giving the model initial mean values has increased it's accuracy slightly and lets us easily see that the model is performing very well.<br>\n",
    "\n",
    "Let's see how the GMM does when given the lower dimensional data:"
   ]
  },
  {
   "cell_type": "code",
   "execution_count": null,
   "metadata": {},
   "outputs": [],
   "source": [
    "gmm = GMM_new(n_components=10)\n",
    "gmm.fit(lda_digit_train)\n",
    "confusion_matrix_stats(gmm, lda_digit_test, labels_test, ['N/A']*10)"
   ]
  },
  {
   "cell_type": "markdown",
   "metadata": {},
   "source": [
    "The GMM performs almost exactly as well as the k-means model that was not given initial means. This is quite impressive as the GMM trained on the full dimensional data was not as accurate as the k-means that was trained on the full dimensional data.<br>\n",
    "\n",
    "**What was the point of this?**<br>\n",
    "\n",
    "From this we see that we can improve the effectiveness of these unsupervised models by using LDA. But not only can we improve the accuracy, we can save a large amount of time. These models (especially the GMM) can take a long time to train and the training time goes up quite drastically as the dimensionality of the data increases. Thus we can get more accurate models, in less time! That sounds like a win all around to me!<br>\n",
    "\n",
    "It should be mentioned that this method has its downsides. Once one has reduced the dimensionality of the data using LDA, you cannot re-project the data back into the higher dimension. Thus we cannot do this if we want to train a GMM to be able to generate class examples (that are more accurate representative of the data) that are in the higher dimensional space.<br>\n",
    "\n",
    "**Compare sklearn semi-supervised learning to our semi-supervised k-means**<br>\n",
    "\n",
    "http://scikit-learn.org/stable/auto_examples/semi_supervised/plot_label_propagation_digits_active_learning.html#sphx-glr-auto-examples-semi-supervised-plot-label-propagation-digits-active-learning-py"
   ]
  },
  {
   "cell_type": "code",
   "execution_count": null,
   "metadata": {},
   "outputs": [],
   "source": [
    "# remove all labels except 2 for each class\n",
    "n_examples = 2\n",
    "y_partial = np.zeros(y_train.shape) - 1\n",
    "for i in np.arange(10):\n",
    "    count = 0\n",
    "    index = 0\n",
    "    while(count < n_examples):\n",
    "        if(y_train[index] == i):\n",
    "            y_partial[index] = i\n",
    "            count += 1\n",
    "        index += 1\n",
    "\n",
    "# Train and get the accuracy of the model\n",
    "model = label_propagation.LabelSpreading(gamma=0.25, max_iter=5)\n",
    "model.fit(X_train, y_partial)\n",
    "confusion_matrix_stats(model, X_test, y_test, np.arange(10))"
   ]
  },
  {
   "cell_type": "markdown",
   "metadata": {},
   "source": [
    "It is interesting to see how much more accurate this model seems to be than ours. If I had more time I would delve into this library and find out why this is.<br>\n",
    "\n",
    "**Give initial values to the GMM**<br>\n",
    "\n",
    "But first I thought it would be interesting to compare the old GMM library (the one used above) to the new one (the one used from now on)."
   ]
  },
  {
   "cell_type": "code",
   "execution_count": null,
   "metadata": {},
   "outputs": [],
   "source": [
    "np.random.seed(1)\n",
    "gmm = GMM_new(n_components=10)\n",
    "gmm.fit(X_train)\n",
    "gmm_means = gmm.means_\n",
    "\n",
    "plot_digits(gmm_means, 'Cluster Center Images')\n",
    "\n",
    "confusion_matrix_stats(gmm, X_test, y_test, ['N/A']*10)\n",
    "\n",
    "gmm_covars = gmm.covariances_\n",
    "samples = gen_samples(gmm_means, gmm_covars)\n",
    "\n",
    "plot_digits(samples, 'Generated Sample Images')"
   ]
  },
  {
   "cell_type": "markdown",
   "metadata": {},
   "source": [
    "It is interesting to note that the new GMM library seems to be slightly more accurate, again, if I had more time I would try figure out why that is."
   ]
  },
  {
   "cell_type": "code",
   "execution_count": null,
   "metadata": {},
   "outputs": [],
   "source": [
    "# Get a random example from each class\n",
    "rand_estimates = np.zeros((10, 64))\n",
    "for i in np.arange(0, 10):\n",
    "    X_i = X_train[y_train == i]\n",
    "    rand_example = X_i[randint(0, X_i.shape[0]-1)]\n",
    "    rand_estimates[i] = rand_example\n",
    "\n",
    "plot_digits(rand_estimates, 'Random Estimates - Initial Means')\n",
    "\n",
    "gmm = GMM_new(n_components=10, means_init=rand_estimates)\n",
    "gmm.fit(X_train)\n",
    "gmm_means = gmm.means_\n",
    "\n",
    "plot_digits(gmm_means, 'Cluster Center Images')\n",
    "\n",
    "confusion_matrix_stats(gmm, X_test, y_test, np.arange(10))\n",
    "\n",
    "gmm_covars = gmm.covariances_\n",
    "samples = gen_samples(gmm_means, gmm_covars)\n",
    "\n",
    "plot_digits(samples, 'Generated Sample Images')"
   ]
  },
  {
   "cell_type": "markdown",
   "metadata": {},
   "source": [
    "This result was initially very surprising to me. It seems that the GMM does quite badly when given initial means. I thought that perhaps the GMM would do better if I gave it better means, so I decided to give it the true means of the data as it's initial means."
   ]
  },
  {
   "cell_type": "code",
   "execution_count": null,
   "metadata": {},
   "outputs": [],
   "source": [
    "means = np.zeros((10, 64))\n",
    "for i in np.arange(10):\n",
    "    means[i] = np.mean(X_train[y_train == i], axis=0)"
   ]
  },
  {
   "cell_type": "code",
   "execution_count": null,
   "metadata": {},
   "outputs": [],
   "source": [
    "plot_digits(means, 'Initial means Images')\n",
    "\n",
    "gmm = GMM_new(n_components=10, means_init=km_cluster_centers)\n",
    "gmm.fit(X_train)\n",
    "gmm_means = gmm.means_\n",
    "\n",
    "plot_digits(gmm_means, 'Cluster Center Images')\n",
    "\n",
    "confusion_matrix_stats(gmm, X_test, y_test, np.arange(10))\n",
    "\n",
    "gmm_covars = gmm.covariances_\n",
    "samples = gen_samples(gmm_means, gmm_covars)\n",
    "\n",
    "plot_digits(samples, 'Generated Sample Images')"
   ]
  },
  {
   "cell_type": "markdown",
   "metadata": {},
   "source": [
    "This is even worse! At this point we need to think hard about what is happening in the GMM. It seems quite impossible that if we give it the actual means of the data that it can go this horribly wrong. That is until you remember that the GMM consists of 2 major sets of parameters: the cluster means and **the cluster covariance matrices**.<br>\n",
    "\n",
    "I believe the following is happening:<br>\n",
    "\n",
    "The means are being initialized correctly and the covariance matrices are being initialized somewhat randomly. Because of the class shape differences caused by the different covariance matrices:<br>\n",
    "\n",
    "1. some classes will have many examples of the correct class assigned to it<br>\n",
    "\n",
    "2. some classes will have many examples of the incorrect classes assigned to it<br>\n",
    "\n",
    "3. some classes will have few examples of the correct class assigned to it<br>\n",
    "\n",
    "4. some classes will have few examples of the incorrect classes assigned to it.<br>\n",
    "\n",
    "We would like a combination of cases 1 and 2, however this is a somewhat unlikely event to occur when the model is initialized. A combination of the other events is far more likely and this is where the trouble comes.<br>\n",
    "\n",
    "An important thing to remember is that the model is done being trained when the class centers and the covariance matrices stop changing significantly with each iteration of the EM algorithm. Thus if I initialize the model with the correct means and the incorrect covariance matrices (what has happened in the above case), the model will move farther and farther away from the true means as the class means must change with each iteration as the covariance matrices are attempting to be calculated. Thus the model will never finish the training with the correct means. Even if the model manages to find the correct covariance matrices, the model will still not be accurate as the means are wrong. This explains why we get worse results by initializing the model with the correct means.<br>\n",
    "\n",
    "Another thing to keep in mind is some classes may be \"stealing\" data points from the correct class because of the shape of the covariance matrix (may enclose many values). Thus some classes may contain few examples of the correct class and be sure of their contents. And others may contain many examples of all classes and be unsure of it's contents. This could even force classes to have no data points inside of them (this may be what is happening above).<br>\n",
    "\n",
    "We thus have 2 options:<br>\n",
    "\n",
    "* initialize the model with a good estimation of the means and a good estimation of the covariance matrices<br>\n",
    "\n",
    "* initialize the model with a good estimation of the means and an estimation of the covariance matrices that maximizes the chances of the classes containing many correct examples of the class and many incorrect examples of the class - in this case the EM algorithm will simply \"shrink\" the covariance matrices to fit mostly correct class examples and few incorrect class examples.<br>\n",
    "\n",
    "I use the word \"shrink\" as it is helpful to visualize the covariance matrices as contour lines enclosing data points. As the EM algorithm does it's job these contours will change shape. In the above scenario the contours will get smaller to try exclude most of the incorrect class examples.<br>\n",
    "\n",
    "Lets calculate the true covariance matrices for each class:<br>\n",
    "\n",
    "Actually the GMM wants the precision matrices (inverse of the covariance matrices), thus I will calculate them if possible."
   ]
  },
  {
   "cell_type": "code",
   "execution_count": null,
   "metadata": {},
   "outputs": [],
   "source": [
    "covars = np.zeros((10, 64, 64))\n",
    "precs = np.zeros((10, 64, 64))\n",
    "precs_spherical = np.zeros((10, 64, 64))\n",
    "for i in np.arange(10):\n",
    "    dat = X_train[y_train == i]\n",
    "    covars[i] = np.cov(dat.T)\n",
    "    precs[i] = np.linalg.pinv(covars[i])\n",
    "    precs_spherical[i] = np.diag(np.ones(64))"
   ]
  },
  {
   "cell_type": "markdown",
   "metadata": {},
   "source": [
    "Let's see if I calculated the covariance matrices correctly:"
   ]
  },
  {
   "cell_type": "code",
   "execution_count": null,
   "metadata": {},
   "outputs": [],
   "source": [
    "# generate samples using these means and covariances to check accuracy\n",
    "samples = gen_samples(means, precs_spherical)\n",
    "plot_digits(samples, 'Generated Sample Images')"
   ]
  },
  {
   "cell_type": "markdown",
   "metadata": {},
   "source": [
    "It is clear than the covariance matrices and means are both correct as I can generate very good random examples of each class.<br>\n",
    "\n",
    "This is, unfortunately, where we run into problems:"
   ]
  },
  {
   "cell_type": "code",
   "execution_count": null,
   "metadata": {},
   "outputs": [],
   "source": [
    "for i in np.arange(10):\n",
    "    print('Digit %d -' % i, end=' ')\n",
    "    print('Rank is:', np.linalg.matrix_rank(covars[i]), end='; ')\n",
    "    print('Is positive definite:', np.all(np.linalg.eigvals(covars[i]) > 0), end='; ')\n",
    "    print('Is singular:', np.linalg.det(covars[i]) == 0)"
   ]
  },
  {
   "cell_type": "markdown",
   "metadata": {},
   "source": [
    "The GMM requires the covariance matrices to be positive definite and it wants the precision matrices. This implies that the covariance matrices must be non-singular.<br>\n",
    "\n",
    "We can see from the above results that none of the covariance matrices are positive definite and all of them are singular.<br>\n",
    "\n",
    "This is a fairly big problem as this means we cannot initialize the GMM with the true covariance matrices.<br>\n",
    "\n",
    "Thus I will initialize the GMM with spherical covariance matrices that follow the second case described above.<br>"
   ]
  },
  {
   "cell_type": "code",
   "execution_count": null,
   "metadata": {},
   "outputs": [],
   "source": [
    "plot_digits(means, 'Initial means Images')\n",
    "\n",
    "gmm = GMM_new(n_components=10, means_init=means,\n",
    "              precisions_init=precs_spherical)\n",
    "gmm.fit(X_train)\n",
    "gmm_means = gmm.means_\n",
    "\n",
    "plot_digits(gmm_means, 'Cluster Center Images')\n",
    "\n",
    "confusion_matrix_stats(gmm, X_test, y_test, np.arange(10))\n",
    "\n",
    "gmm_covars = gmm.covariances_\n",
    "samples = gen_samples(gmm_means, gmm_covars)\n",
    "\n",
    "plot_digits(samples, 'Generated Sample Images')"
   ]
  },
  {
   "cell_type": "markdown",
   "metadata": {},
   "source": [
    "These results are very good! The class centers have only deviated slightly from the true means and the class covariance matrices seem to have taken on shapes very similar to the true covariance matrices. This is mainly shown by the accuracy displayed by the confusion matrix and the fact that the generated class examples are quite decent.<br>\n",
    "\n",
    "Now let's see what happens if we initialize the GMM with the same spherical covariance matrices and a random example form each class (that may or may not be a good representation) as a mean."
   ]
  },
  {
   "cell_type": "code",
   "execution_count": null,
   "metadata": {},
   "outputs": [],
   "source": [
    "# Get a random example from each class\n",
    "rand_estimates = np.zeros((10, 64))\n",
    "\n",
    "for i in np.arange(0, 10):\n",
    "    X_i = X_train[y_train == i]\n",
    "    rand_example = X_i[randint(0, X_i.shape[0]-1)]\n",
    "    rand_estimates[i] = rand_example\n",
    "\n",
    "# Plot the initial mean estimates\n",
    "plot_digits(rand_estimates, 'Random Estimates - Initial Means')\n",
    "\n",
    "gmm = GMM_new(n_components=10, means_init=rand_estimates,\n",
    "              precisions_init=precs_spherical)\n",
    "gmm.fit(X_train)\n",
    "gmm_means = gmm.means_\n",
    "\n",
    "plot_digits(gmm_means, 'Cluster Center Images')\n",
    "\n",
    "confusion_matrix_stats(gmm, X_test, y_test, np.arange(10))\n",
    "\n",
    "gmm_covars = gmm.covariances_\n",
    "samples = gen_samples(gmm_means, gmm_covars)\n",
    "\n",
    "plot_digits(samples, 'Generated Sample Images')"
   ]
  },
  {
   "cell_type": "markdown",
   "metadata": {},
   "source": [
    "We can see that this GMM is more likely to have a higher accuracy than a GMM that has not been initialized with any values. This is quite an important discovery and I feel like we have learned a lot through this process.<br>\n",
    "\n",
    "This exercise leads me to believe that it is far more important to initialize the GMM with a \"good\" estimation of the covariance matrices than it is to initialize it with a good estimation of the means.<br>\n",
    "\n",
    "**Have a look at the MNIST dataset with unsupervised learning:**"
   ]
  },
  {
   "cell_type": "code",
   "execution_count": null,
   "metadata": {},
   "outputs": [],
   "source": [
    "from mnist import load_dataset\n",
    "X_train, y_train, X_valid, y_valid, X_test, y_test = load_dataset()\n",
    "\n",
    "X_train_flat = X_train.reshape((X_train.shape[0], -1))\n",
    "X_test_flat = X_test.reshape((X_test.shape[0], -1))"
   ]
  },
  {
   "cell_type": "markdown",
   "metadata": {},
   "source": [
    "**Unsupervised k-means:**"
   ]
  },
  {
   "cell_type": "code",
   "execution_count": null,
   "metadata": {},
   "outputs": [],
   "source": [
    "km = KM(codes=10,itr=2)\n",
    "km.fit(X_train_flat)\n",
    "km_cluster_centers = km.get_means"
   ]
  },
  {
   "cell_type": "code",
   "execution_count": null,
   "metadata": {},
   "outputs": [],
   "source": [
    "plot_digits(km_cluster_centers, 'Cluster Center Images');\n",
    "confusion_matrix_stats(km, X_test_flat, y_test, np.arange(10))"
   ]
  },
  {
   "cell_type": "markdown",
   "metadata": {},
   "source": [
    "The unsupervised k-means model is performing very poorly on the MNIST dataset."
   ]
  },
  {
   "cell_type": "markdown",
   "metadata": {},
   "source": [
    "**Semi-supervised k-means:**"
   ]
  },
  {
   "cell_type": "code",
   "execution_count": null,
   "metadata": {},
   "outputs": [],
   "source": [
    "n_samples = 2\n",
    "X_lbl = np.zeros((10*n_samples,X_train_flat.shape[1]))\n",
    "y_lbl = np.zeros((10*n_samples,))\n",
    "for i in range(10):\n",
    "    dat = X_test_flat[y_test==i,:]\n",
    "    samples = np.random.randint(0,dat.shape[0]-1,n_samples)\n",
    "\n",
    "    X_lbl[i*n_samples:(i+1)*n_samples] = dat[samples]\n",
    "    y_lbl[i*n_samples:(i+1)*n_samples] = i\n",
    "\n",
    "plot_digits(X_lbl[::n_samples], 'Labeled Images');"
   ]
  },
  {
   "cell_type": "code",
   "execution_count": null,
   "metadata": {},
   "outputs": [],
   "source": [
    "km = KM(codes=10,itr=2)\n",
    "km.fit(X_train_flat,X_lbl,y_lbl)\n",
    "km_cluster_centers = km.get_means"
   ]
  },
  {
   "cell_type": "code",
   "execution_count": null,
   "metadata": {},
   "outputs": [],
   "source": [
    "plot_digits(km_cluster_centers, 'Cluster Center Images');\n",
    "confusion_matrix_stats(km, X_test_flat, y_test, np.arange(10))"
   ]
  },
  {
   "cell_type": "markdown",
   "metadata": {},
   "source": [
    "The semi-supervised k-means model only needs 2 class examples to greatly out perform the unsupervised k-means model.<br>\n",
    "\n",
    "**Unsupervised GMM:**<br>\n",
    "\n",
    "Note that `covariance_type='spherical'` was used as the model would take too long to train if any other setting is used (the MNIST dataset is quite large and is of very high dimensionality)."
   ]
  },
  {
   "cell_type": "code",
   "execution_count": null,
   "metadata": {},
   "outputs": [],
   "source": [
    "gmm = GMM_new(n_components=10, n_init=10,\n",
    "              covariance_type='spherical')\n",
    "gmm.fit(X_train_flat)\n",
    "gmm_means = gmm.means_"
   ]
  },
  {
   "cell_type": "code",
   "execution_count": null,
   "metadata": {},
   "outputs": [],
   "source": [
    "plot_digits(gmm_means, 'Cluster Center Images')\n",
    "\n",
    "confusion_matrix_stats(gmm, X_test_flat, y_test, ['N/A']*10)\n",
    "\n",
    "gmm_covars = gmm.covariances_\n",
    "samples = gen_samples(gmm_means, gmm_covars)\n",
    "\n",
    "plot_digits(samples, 'Generated Sample Images')"
   ]
  },
  {
   "cell_type": "markdown",
   "metadata": {},
   "source": [
    "We can see that the GMM is not very accurate. This is to be expected as we are trying to capture very complex relationships of high dimensional data with very few parameters.<br>\n",
    "\n",
    "We may be able to improve the GMM's accuracy using what was learned above:"
   ]
  },
  {
   "cell_type": "code",
   "execution_count": null,
   "metadata": {},
   "outputs": [],
   "source": [
    "precs_single = np.ones(10)\n",
    "means = np.zeros((10, X_train_flat.shape[1]))\n",
    "for i in np.arange(10):\n",
    "    means[i] = np.mean(X_train_flat[y_train == i], axis=0)"
   ]
  },
  {
   "cell_type": "code",
   "execution_count": null,
   "metadata": {},
   "outputs": [],
   "source": [
    "gmm = GMM_new(n_components=10,\n",
    "              means_init=means,\n",
    "              precisions_init=precs_single,\n",
    "              covariance_type='spherical')\n",
    "gmm.fit(X_train_flat)\n",
    "gmm_means = gmm.means_"
   ]
  },
  {
   "cell_type": "code",
   "execution_count": null,
   "metadata": {},
   "outputs": [],
   "source": [
    "plot_digits(means, 'True Class Means')\n",
    "\n",
    "plot_digits(gmm_means, 'Cluster Center Images')\n",
    "\n",
    "confusion_matrix_stats(gmm, X_test_flat, y_test, np.arange(10))\n",
    "\n",
    "gmm_covars = gmm.covariances_\n",
    "samples = gen_samples(gmm_means, gmm_covars)\n",
    "\n",
    "plot_digits(samples, 'Generated Sample Images')"
   ]
  },
  {
   "cell_type": "markdown",
   "metadata": {},
   "source": [
    "I was able to greatly increase the accuracy of the GMM but as previously stated, the GMM is still laking as we are trying to capture very complex relationships of high dimensional data with very few parameters.<br>\n",
    "\n",
    "I could use the LDA investigation that was used above to improve the results but I feel that this has already been investigated and need not be done again.<br>\n",
    "\n",
    "I would love to investigate many more things (such as how the means and covariance matrices change with each iteration of the EM algorithm, how the number of examples given to a semi-supervised model affects the accuracy) but unfortunately due to time constraints I must end here.<br>"
   ]
  },
  {
   "cell_type": "markdown",
   "metadata": {
    "collapsed": true
   },
   "source": [
    "# Plagiarism declaration\n",
    "\n",
    "* I have read and understand the Stellenbosch University Policy on Plagiarism and the def- initions of plagiarism and self-plagiarism contained in the Policy [Plagiarism: The use of the ideas or material of others without acknowledgement, or the re-use of one’s own pre- viously evaluated or published material without acknowledgement or indication thereof (self-plagiarism or text- recycling)].\n",
    "* I also understand that direct translations are plagiarism.\n",
    "* Accordingly all quotations and contributions from any source whatsoever (including the\n",
    "internet) have been cited fully.\n",
    "* I understand that the reproduction of text without quotation marks (even when the source\n",
    "is cited) is plagiarism.\n",
    "* I declare that the work contained in this assignment is my own work and that I have not previously (in its entirety or in part) submitted it for grading in this module/assignment or another module/assignment."
   ]
  }
 ],
 "metadata": {
  "kernelspec": {
   "display_name": "Python 3",
   "language": "python",
   "name": "python3"
  },
  "language_info": {
   "codemirror_mode": {
    "name": "ipython",
    "version": 3
   },
   "file_extension": ".py",
   "mimetype": "text/x-python",
   "name": "python",
   "nbconvert_exporter": "python",
   "pygments_lexer": "ipython3",
   "version": "3.6.3"
  }
 },
 "nbformat": 4,
 "nbformat_minor": 1
}
