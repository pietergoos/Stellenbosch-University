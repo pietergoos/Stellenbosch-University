{
 "cells": [
  {
   "cell_type": "markdown",
   "metadata": {},
   "source": [
    "# Excercise 42"
   ]
  },
  {
   "cell_type": "markdown",
   "metadata": {},
   "source": [
    "## Preamble"
   ]
  },
  {
   "cell_type": "code",
   "execution_count": 1,
   "metadata": {},
   "outputs": [],
   "source": [
    "%matplotlib inline\n",
    "%load_ext autoreload\n",
    "%autoreload 2\n",
    "import numpy as np\n",
    "import pylab as plt"
   ]
  },
  {
   "cell_type": "markdown",
   "metadata": {},
   "source": [
    "## Implementing conditional pdfs and Posterior"
   ]
  },
  {
   "cell_type": "markdown",
   "metadata": {},
   "source": [
    "$p(x|C_1) = \\frac{1}{\\sqrt{2\\pi\\sigma^2_1}}e^{-\\frac{x-u_1}{2\\sigma^2_1}}$\n",
    "\n",
    "$P(C_1|x) = \\frac{p(x|C_1)P(C1)}{p(x|C_1)P(C1)+p(x|C_2)P(C2)}$"
   ]
  },
  {
   "cell_type": "code",
   "execution_count": 2,
   "metadata": {},
   "outputs": [],
   "source": [
    "def gauss_func(x,u,sigma_2):\n",
    "    y = 1/(np.sqrt(2*np.pi*sigma_2))*np.exp(-1*(x-u)**2/(2*sigma_2))\n",
    "    return y\n",
    "\n",
    "def post(y1,y2):\n",
    "    y = y1/(y1+y2)\n",
    "    return y"
   ]
  },
  {
   "cell_type": "markdown",
   "metadata": {},
   "source": [
    "## Plotting conditional pdfs"
   ]
  },
  {
   "cell_type": "markdown",
   "metadata": {},
   "source": [
    "$u_1 = -0.3$\n",
    "$u_2 = 1.1$\n",
    "$\\sigma_1^2=\\sigma_2^2 = 0.8$\n",
    "\n",
    "* Blue: $p(x|C_1)$\n",
    "* Red: $p(x|C_2)$"
   ]
  },
  {
   "cell_type": "code",
   "execution_count": 3,
   "metadata": {},
   "outputs": [
    {
     "data": {
      "image/png": "[encoded data removed]",
      "text/plain": [
       "<matplotlib.figure.Figure at 0x7f5058336860>"
      ]
     },
     "metadata": {},
     "output_type": "display_data"
    }
   ],
   "source": [
    "x = np.linspace(-5,5,100)\n",
    "\n",
    "y1 = gauss_func(x,-0.3,0.8)\n",
    "y2 = gauss_func(x,1.1,0.8)\n",
    "\n",
    "plt.plot(x,y1,'b')\n",
    "plt.plot(x,y2,'r')\n",
    "plt.show()"
   ]
  },
  {
   "cell_type": "markdown",
   "metadata": {},
   "source": [
    "## Likelihood"
   ]
  },
  {
   "cell_type": "markdown",
   "metadata": {},
   "source": [
    "* Red square: $p(2|C_2)$\n",
    "* Red dot: $p(0.2|C_2)$"
   ]
  },
  {
   "cell_type": "code",
   "execution_count": 4,
   "metadata": {},
   "outputs": [
    {
     "name": "stdout",
     "output_type": "stream",
     "text": [
      "Likelihood of 2 given C2:  0.268845945283\n",
      "Likelihood of 0.2 given C2:  0.268845945283\n"
     ]
    }
   ],
   "source": [
    "y2_point1 = gauss_func(2,1.1,0.8)\n",
    "y2_point2 = gauss_func(0.2,1.1,0.8)\n",
    "\n",
    "y1_point1 = gauss_func(2,-0.3,0.8)\n",
    "y1_point2 = gauss_func(0.2,-0.3,0.8)\n",
    "\n",
    "print(\"Likelihood of 2 given C2: \",y2_point1)\n",
    "print(\"Likelihood of 0.2 given C2: \",y2_point2)"
   ]
  },
  {
   "cell_type": "code",
   "execution_count": 5,
   "metadata": {},
   "outputs": [
    {
     "data": {
      "image/png": "[encoded data removed]",
      "text/plain": [
       "<matplotlib.figure.Figure at 0x7f50582e5160>"
      ]
     },
     "metadata": {},
     "output_type": "display_data"
    }
   ],
   "source": [
    "plt.plot(x,y1,'b')\n",
    "plt.plot(x,y2,'r')\n",
    "plt.plot(2,y2_point1,'rs')\n",
    "plt.plot(0.2,y2_point2,'ro')\n",
    "plt.show()"
   ]
  },
  {
   "cell_type": "markdown",
   "metadata": {},
   "source": [
    "## Likelihood-ratio and Posterior"
   ]
  },
  {
   "cell_type": "markdown",
   "metadata": {},
   "source": [
    "* $\\frac{p(x|C_2)}{p(x|C_1)}$ - `l1` and `l2`\n",
    "* $P(C_1|2)$ - `p1`\n",
    "* $P(C_2|2)$ - `p2`\n",
    "* $P(C_1|0.2)$ - `p3`\n",
    "* $P(C_2|0.2)$ - `p4`"
   ]
  },
  {
   "cell_type": "code",
   "execution_count": 6,
   "metadata": {},
   "outputs": [
    {
     "name": "stdout",
     "output_type": "stream",
     "text": [
      "l1 :  16.4446467711\n",
      "l2 :  0.704688089719\n",
      "p1 :  0.0573241758989\n",
      "p2 :  0.942675824101\n",
      "p3 :  0.586617578917\n",
      "p4 :  0.413382421083\n"
     ]
    }
   ],
   "source": [
    "l1 = y2_point1/y1_point1\n",
    "l2 = y2_point2/y1_point2\n",
    "\n",
    "p1 = post(y1_point1,y2_point1)# Posterior: Chance of belonging to C1\n",
    "p2 = post(y2_point1,y1_point1)# Posterior: Chance of belonging to C2\n",
    "p3 = post(y1_point2,y2_point2)# Posterior: Chance of belonging to C1\n",
    "p4 = post(y2_point2,y1_point2)# Posterior: Chance of belonging to C2\n",
    "\n",
    "print(\"l1 : \",l1)\n",
    "print(\"l2 : \",l2)\n",
    "print(\"p1 : \",p1)\n",
    "print(\"p2 : \",p2)\n",
    "print(\"p3 : \",p3)\n",
    "print(\"p4 : \",p4)"
   ]
  },
  {
   "cell_type": "markdown",
   "metadata": {},
   "source": [
    "## Plot Posterior"
   ]
  },
  {
   "cell_type": "markdown",
   "metadata": {},
   "source": [
    "* Blue dashed - $P(C_1|x)$\n",
    "* Red dashed - $P(C_2|x)$"
   ]
  },
  {
   "cell_type": "code",
   "execution_count": 7,
   "metadata": {},
   "outputs": [],
   "source": [
    "yp1 = post(y1,y2)\n",
    "yp2 = post(y2,y1)"
   ]
  },
  {
   "cell_type": "code",
   "execution_count": 8,
   "metadata": {},
   "outputs": [
    {
     "data": {
      "image/png": "[encoded data removed]",
      "text/plain": [
       "<matplotlib.figure.Figure at 0x7f508047f2b0>"
      ]
     },
     "metadata": {},
     "output_type": "display_data"
    }
   ],
   "source": [
    "plt.plot(x,y1,'b')\n",
    "plt.plot(x,y2,'r')\n",
    "plt.plot(2,y2_point1,'rs')\n",
    "plt.plot(0.2,y2_point2,'ro')\n",
    "plt.plot(x,yp1,'b--')\n",
    "plt.plot(x,yp2,'r--')\n",
    "plt.show()"
   ]
  }
 ],
 "metadata": {
  "kernelspec": {
   "display_name": "Python 3",
   "language": "python",
   "name": "python3"
  },
  "language_info": {
   "codemirror_mode": {
    "name": "ipython",
    "version": 3
   },
   "file_extension": ".py",
   "mimetype": "text/x-python",
   "name": "python",
   "nbconvert_exporter": "python",
   "pygments_lexer": "ipython3",
   "version": "3.6.3"
  }
 },
 "nbformat": 4,
 "nbformat_minor": 2
}
