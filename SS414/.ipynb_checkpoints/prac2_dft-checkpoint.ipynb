{
 "cells": [
  {
   "cell_type": "markdown",
   "metadata": {},
   "source": [
    "# Systems and Signals 414 Practical 2: Using the DFT"
   ]
  },
  {
   "cell_type": "markdown",
   "metadata": {},
   "source": [
    "**Aim:** Understand the use of the DFT in discrete-time signal analysis.\n",
    "\n",
    "**Hand in:** Please hand in this notebook as a PDF file on sunlearn by Sunday, 4 March at 23:55. To save your notebook to a PDF, you can  print the notebook from your browser and then choose to `Save as PDF`. (If you are doing the practical on a machine with LaTeX, you can also select `File`$\\rightarrow$ `Download as` $\\rightarrow$ `PDF via LaTeX (.pdf)` directly in the notebook). After exporting your notebook, upload the PDF by clicking on `Practical 2 submission` on sunlearn and following the steps. You may submit your work multiple times; only the last submission will be marked. **No late submissions will be accepted.**\n",
    "\n",
    "**Task:** Do the following assignment using Jupyter. Document the task indicating your methodology, theoretical results, numerical results and discussions as necessary. Your graphs should have labeled axes with the correct units indicated. If you get stuck with a Numpy or Scipy function, go look up the usage at https://docs.scipy.org. Also take a look at the provided coding examples.\n",
    "\n",
    "**Preamble code and helper functions:**"
   ]
  },
  {
   "cell_type": "code",
   "execution_count": null,
   "metadata": {},
   "outputs": [],
   "source": [
    "#All the necessary imports\n",
    "\n",
    "#%matplotlib notebook\n",
    "%matplotlib inline\n",
    "\n",
    "import pylab as pl\n",
    "import numpy as np\n",
    "from scipy import signal\n",
    "import IPython.display\n",
    "\n",
    "#Nicer matplotlib dimensions\n",
    "pl.rcParams['figure.figsize'] = (9,3)\n",
    "\n",
    "#A helper-function to setup a proper plot\n",
    "def setup_plot(title, y_label='', x_label='', newfig=True):\n",
    "    if newfig:\n",
    "        pl.figure()\n",
    "    pl.margins(*(pl.array(pl.margins())+0.05))\n",
    "    pl.title(title)\n",
    "    pl.ylabel(y_label)\n",
    "    pl.xlabel(x_label)\n",
    "\n",
    "#A helper function to plot an additional x-axis at the top\n",
    "def add_top_axis(x_values, x_label=''):\n",
    "    _, b = pl.rcParams['figure.figsize']\n",
    "    pl.gca().title.set_position([.5, 1.18])\n",
    "    ax1 = pl.gca()\n",
    "    ax2 = ax1.twiny()\n",
    "    ax2.margins(*(pl.array(ax1.margins())))\n",
    "    ln, = ax2.plot(x_values, np.zeros_like(x_values)) # Create a dummy plot\n",
    "    ln.remove()\n",
    "    ax2.set_xlabel(x_label)\n",
    "    \n",
    "#Download yesterday.wav from courses.ee.sun.ac.za and return it as a numpy array\n",
    "def download_and_load_audio(url, mono=True, factor_of_2_length=True):\n",
    "    import os\n",
    "    import urllib\n",
    "    import scipy.io\n",
    "    from scipy.io import wavfile\n",
    "    \n",
    "    filename = os.path.split(url)[-1]\n",
    "    #Download if path does not already exist\n",
    "    if not os.path.isfile(filename):\n",
    "        urllib.request.urlretrieve(url, filename)\n",
    "    sample_frequency, signal_array = wavfile.read(filename)\n",
    "    #Normalise signal and return\n",
    "    if mono and len(signal_array.shape)==2:\n",
    "        signal_array = np.sum(signal_array, axis=1)\n",
    "    signal_array = signal_array/np.max([np.max(signal_array), -np.min(signal_array)])\n",
    "    if factor_of_2_length:\n",
    "        signal_array = signal_array[:2**np.floor(np.log2(len(signal_array))).astype('int')]\n",
    "    \n",
    "    return sample_frequency, signal_array"
   ]
  },
  {
   "cell_type": "markdown",
   "metadata": {},
   "source": [
    "## Questions\n",
    "\n",
    "The audio for today is the solo from [Baker Street](http://www.youtube.com/watch?v=Fo6aKnRnBxM), with Rick Sanchez as backup singer.\n",
    "\n",
    "Use proper Markdown headings (by changing the cell type) to differentiate between Question 1, Question 2, etc. and label your graphs properly.\n",
    "\n",
    "### Question 1\n",
    "\n",
    "Download the audio file `bakerickstreet_noisy.wav` from  sunlearn. Then use the provided function, `download_and_load_audio` to read the audio waveform file into a NumPy array. We consider this array as the discrete-time signal $x[n]$.\n",
    "\n",
    "Load and listen to the signal using `IPython.display.Audio`. Note the high-pitch sinusoidal noise contained in the signal.\n",
    "\n",
    "**1.1)** Find two frequency $f_1$ and $f_2$ (in Hz) for the two interfering sinusoidal signals in $x[n]$. Do so by first calculating $X[k]$ (using `np.fft.fft`), then plotting $|X[k]|$ against the $f_\\omega$ axis, and finally reading the noisy $f_\\omega$ responses off the graph.<br>\n",
    "*Note:* Audio in general is non-stationary, but here we are looking for sinusoids (which are stationary), so we can just take the DFT of the entire signal.<br>\n",
    "*NB:* To generate interactive graphs with zoom-in functionality for better interpretation; replace `%matplotlib inline` in the preample block with `%matplotlib notebook`, restart the kernel, and rerun the necessary blocks. Afterwards, change the plotting settings back to `%matplotlib inline` in a likewise manner before handing in the exported PDF.\n",
    "\n",
    "**1.2)** Consider the noise contained in signal $x[n]$ as the signal $q[n]$ such that\n",
    "$$q(t) = \\sin(f_1\\cdot 2\\pi t) + \\sin(f_2 \\cdot 2\\pi t)$$ $$q[n] = q(t) {\\rm\\ sampled\\ at\\ } F_s=10{\\rm kHz}.$$ Now generate 5 seconds worth of $q[n]$  (derive your timing info from $F_s$) and play it using `IPython.display.Audio`. Does it sound similar to the noise found in signal $x[n]$?\n",
    "\n",
    "**1.3)** Plot the magnitude response $|Q[k]|$ against the $f_\\omega$ axis. Are there a similarity between $Q[k]$ and $X[k]$?\n",
    "\n",
    "**1.4)** Generate the signal $y[n]$ by filtering out the the interfering sinusoidal noise from $x[n]$. Do so by applying the following difference equation to $x[n]$  (same procedure as Practical 0):<br>\n",
    "$\\ \\ \\ \\ \\ \\ \\ \\ \\ \\ \\ y[i] = (x[i]  -1.18 x[i-1]  +2.00 x[i-2]   -1.18x[i-3] \\ \\ \\ \\ \\ \\ + x[i-4] $<br>\n",
    "$\\ \\ \\ \\ \\ \\ \\ \\ \\ \\ \\ \\ \\ \\ \\ \\ \\ \\ \\ \\  \\ \\ \\  \\ \\ \\ \\ \\  +1.13 y[i-1]  -1.84y[i-2] + 1.04y[i-3] -0.85y[i-4] )$<br>\n",
    "For any out-of-bound access to indices (that is for $i<0$ and for $i>=N$), assume an array value of 0. Please keep $y[n]$ the same length as $x[n]$, since the length was specifically chosen to be a factor of 2 for FFT optimisation.<br>\n",
    "*Helpful hint and tip:* In Python, when indexing an array/list with a negative number, such as `arr[-a]` for $a=1,2,\\ldots$, it returns the value at index `N-1-i`. Therefore, to avoid boundary checking when applying the difference equation, we can append 4 zeros to $x[n]$ (using numpy: $x_{\\rm ext}$ `= np.r_[`$x$ `,0,0,0,0]`), and not worry about negative indices when accessing $x_{\\rm ext}[-a]$. Please ensure that the output lengths is correct, ${\\rm len}(y[n]) = {\\rm len}(x[n])$, by looping only ${\\rm len}(x[n])$ times.\n",
    "\n",
    "Plot $|Y[k]|$ against the $f_\\omega$ axis to ensure all the noise components are gone and play the audio signal $y[n]$ using `IPython.display.Audio`.\n",
    "\n",
    "**5)** Calculate the impulse response $h[n]$ of the filter in 1.4, by applying the filter on an impulse signal $\\delta[n]=[1,0,0,\\ldots,0]$ with the same length as $x[n]$.<br>\n",
    "a) What would the DFT for $\\delta[n]$ look like?<br>\n",
    "b) Plot the frequency response $|H[k]|$ against the $f_\\omega$ axis."
   ]
  },
  {
   "cell_type": "markdown",
   "metadata": {},
   "source": [
    "### Question 2:\n",
    "For the signal $x(t)$ and $x[n]$, we have<br>\n",
    "$\\ \\ \\ \\ \\ x(t) = \\sin(4000 \\cdot2\\pi t)$, and<br>\n",
    "$\\ \\ \\ \\ \\ x[n] = x(t)$  sampled at $F_s=12$kHz for $5$ periods of $x(t)$.<br>\n",
    "\n",
    "\n",
    "**2.1)** Sketch (by hand) the magnitude spectrum $|X(f)|$ of $x(t)$. Then sketch (by hand) the magnitude spectrum $|X[k]|$ of $x[n]$, assuming we take the DFT window over all $5$ periods.\n",
    "\n",
    "**2.2)** Stem the signal $x[n]$ against the sample time axis and stem the magnitude spectra $|X[k]|$ against the sample frequency axis.\n",
    "\n",
    "**2.3)** Generate $\\tilde{x}[n]$ as a zero-padded $x[n]$ of 10 times the original length, and stem $|\\tilde{X}[k]|$ against the $k$ axis.\n",
    "\n",
    "**2.4)** Compose $\\hat{X}[k]$ as the DFT of $x[n]$, but zero-padded to 10 times the original size by adding zeros to the center of the $X[k]$ array. Determine and stem the IDFT $\\hat{x}[n]$ and the original $x[n]$ as two different plots. <br> *Remember:* Where should the zeros go when zero-padding $X[k]$?"
   ]
  },
  {
   "cell_type": "markdown",
   "metadata": {},
   "source": [
    "### Question 3:\n",
    "For the signal $p(t)$ and $p[n]$, we have<br>\n",
    "$\\ \\ \\ \\ \\ p(t) = \\cos(900\\cdot2\\pi t)+0.15\\cos(800\\cdot2\\pi t).$, and<br>\n",
    "$\\ \\ \\ \\ \\ p[n] = p(t)$  sampled at $F_s=2$kHz for 50 samples.<br>\n",
    "\n",
    "\n",
    "**3.1)** Stem the 50-point DFT magnitude spectrum $|P[k]|$ of $p[n]$ against the $f_\\omega$ axis.\n",
    "\n",
    "**3.2)** Estimate the frequencies present in $p[n]$ from the plot in 3.1. Why is it difficult?\n",
    "\n",
    "**3.3)** Generate $\\tilde{p}[n]$ as a zero-padded $p[n]$ of 100 times the original length, and plot (not stem) $|\\tilde{P}[k]|$ against the $f_\\omega$ axis.\n",
    "\n",
    "**3.4)** Generate $\\hat{p}[n]$ by applying a Hamming-window to $p[n]$ and zero-padding the signal to be of 100 times the original length. Plot (not stem) $|\\hat{P}[k]|$ against the $f_\\omega$ axis.\n",
    "\n",
    "**3.5)** Comment on the differences between 3.2, 3.3, and 3.4 with regard to the ease of determining the frequencies."
   ]
  },
  {
   "cell_type": "markdown",
   "metadata": {},
   "source": [
    "### Bonus Question\n",
    "What is the the sequel to *Roy: A life well lived*?"
   ]
  },
  {
   "cell_type": "markdown",
   "metadata": {},
   "source": [
    "### Additional Question\n",
    "**Although you do not need to hand in this question, testweek is coming, so keep fit!**\n",
    "\n",
    "**A.1)** Consider the following sequence $X[k] = \\{0, 1, 1\\}$, what is the solution for $x[n]$, the IDFT of $X[k]$, as a discrete-time sinusoid.\n",
    "\n",
    "**A.2)** Obtain $\\tilde{X}[k]$ by zero-padding $X[k]$ appropriately to be 100 samples of length. Where would you add the zeros? What would be the solution for $\\tilde{x}[n]$, the IDFT of $\\tilde{X}[k]$, as a discrete-time sinusoid?\n",
    "\n",
    "**A.3)** Generate the signals in 4.1 and 4.2 in Python; stem $\\tilde{X}[k]$ and plot $\\tilde{x}[n]$."
   ]
  },
  {
   "cell_type": "markdown",
   "metadata": {
    "collapsed": true
   },
   "source": [
    "### Coding examples\n",
    "**Plotting an additional axis**"
   ]
  },
  {
   "cell_type": "code",
   "execution_count": null,
   "metadata": {},
   "outputs": [],
   "source": [
    "#Normal plot with matplotlib plot and setup_plot helper\n",
    "setup_plot('Title', 'y_axis', 'bottom axis')\n",
    "pl.plot(np.arange(1000), np.cos(np.linspace(0, 3*np.pi, 1000)));\n",
    "\n",
    "#Add an extra x-axis at the top with 1e-4 scale\n",
    "add_top_axis(np.arange(1000)*1e-4, 'top axis')"
   ]
  },
  {
   "cell_type": "markdown",
   "metadata": {},
   "source": [
    "**Note the difference between linspace and arange:**"
   ]
  },
  {
   "cell_type": "code",
   "execution_count": null,
   "metadata": {},
   "outputs": [],
   "source": [
    "#Every second element from 0 upto (but excluding) 10\n",
    "print('a)', np.arange(0,10,1))\n",
    "\n",
    "#5 elements from 0 upto (but excluding) 10\n",
    "print('b)', np.linspace(0,10,10,False))\n",
    "\n",
    "#5 elements from 0 upto 10 (avoid!!!)\n",
    "print('c)', np.linspace(0,10,10))"
   ]
  },
  {
   "cell_type": "markdown",
   "metadata": {},
   "source": [
    "#### Audio player with Ipython.lib.display.Audio"
   ]
  },
  {
   "cell_type": "code",
   "execution_count": null,
   "metadata": {},
   "outputs": [],
   "source": [
    "example_signal = np.sin(2*np.pi*500*np.linspace(0,5,50000))\n",
    "IPython.lib.display.Audio(rate=10000,\n",
    "                          data=example_signal)"
   ]
  },
  {
   "cell_type": "markdown",
   "metadata": {},
   "source": [
    "#### Plotting the spectrum of a signal"
   ]
  },
  {
   "cell_type": "code",
   "execution_count": null,
   "metadata": {},
   "outputs": [],
   "source": [
    "#Plotting the spectrum of a signal\n",
    "example_fft = np.fft.fft(example_signal) \n",
    "example_fw_axis = np.linspace(0, 1, len(example_fft), False)\n",
    "\n",
    "setup_plot('Example fft', 'Magnitude', '$f_\\omega$')\n",
    "pl.plot(example_fw_axis, np.abs(example_fft));"
   ]
  },
  {
   "cell_type": "markdown",
   "metadata": {},
   "source": [
    "# Answer space:"
   ]
  },
  {
   "cell_type": "markdown",
   "metadata": {
    "collapsed": true
   },
   "source": [
    "## Question 1"
   ]
  },
  {
   "cell_type": "code",
   "execution_count": null,
   "metadata": {},
   "outputs": [],
   "source": [
    "rate, adata = download_and_load_audio(\"bakerickstreet_noisy.wav\")\n",
    "IPython.lib.display.Audio(rate=rate, data=adata)"
   ]
  },
  {
   "cell_type": "code",
   "execution_count": null,
   "metadata": {},
   "outputs": [],
   "source": [
    "#1.1\n",
    "X = np.fft.fft(adata)\n",
    "fw = np.linspace(0, 1, X.size, False)\n",
    "setup_plot('DFT of song', '|X|', 'Digital Freq')\n",
    "pl.plot(fw, np.abs(X))\n"
   ]
  },
  {
   "cell_type": "markdown",
   "metadata": {},
   "source": [
    "f1 = 0.15 and f2 = 0.25"
   ]
  },
  {
   "cell_type": "code",
   "execution_count": null,
   "metadata": {},
   "outputs": [],
   "source": [
    "#1.2\n",
    "f1 = 0.15 * rate\n",
    "f2 = 0.25 * rate\n",
    "fs = 10000\n",
    "\n",
    "time = np.linspace(0, 5, 5*fs, False)\n",
    "q = np.sin(2 * np.pi * time * f1) + np.sin(2 * np.pi * time * f2)\n",
    "\n",
    "IPython.lib.display.Audio(rate=fs, data=q)"
   ]
  },
  {
   "cell_type": "code",
   "execution_count": null,
   "metadata": {},
   "outputs": [],
   "source": [
    "#1.3\n",
    "Q = np.fft.fft(q)\n",
    "fw = np.linspace(0, 1, Q.size, False)\n",
    "\n",
    "setup_plot('Noise DFT', '|Q|', 'Digital Freq')\n",
    "pl.plot(fw, np.abs(Q))"
   ]
  },
  {
   "cell_type": "markdown",
   "metadata": {},
   "source": [
    "The impulses are the same as in X just without the other peaks in the signal"
   ]
  },
  {
   "cell_type": "code",
   "execution_count": null,
   "metadata": {},
   "outputs": [],
   "source": [
    "#1.4\n",
    "x = np.array(adata)\n",
    "y = np.append(x, np.zeros(4))\n",
    "\n",
    "for i in range(adata.size):\n",
    "    y[i] += -1.18*x[i-1] +2*x[i-2] -1.18*x[i-3] + x[i-4] + 1.13*y[i-1] -1.84*y[i-2] +1.04*y[i-3] -0.85*y[i-4]\n",
    "    \n",
    "y = y[:-4]\n",
    "fwy = np.linspace(0, 1, y.size, False)\n",
    "\n",
    "setup_plot('DFT of filtered song', '|Y|', 'Digital Frequency' )\n",
    "pl.plot(fwy, np.abs(np.fft.fft(y)))\n",
    "IPython.lib.display.Audio(rate = rate, data = y)"
   ]
  },
  {
   "cell_type": "code",
   "execution_count": null,
   "metadata": {},
   "outputs": [],
   "source": [
    "#1.5\n",
    "di = np.append(np.ones(1), np.zeros(adata.size +3))\n",
    "Di = np.abs(np.fft.fft(di))\n",
    "setup_plot('DFT of Impulse Function', '|Di|', 'Samples')\n",
    "pl.plot(Di);\n",
    "\n",
    "h = np.array(di)\n",
    "for i in range(adata.size):\n",
    "     h[i] += -1.18*di[i-1] +2*di[i-2] -1.18*di[i-3] + di[i-4] + 1.13*h[i-1] -1.84*h[i-2] +1.04*h[i-3] -0.85*h[i-4]\n",
    "        \n",
    "h = h[:-4]\n",
    "fwh = np.linspace(0, 1, h.size, False)\n",
    "setup_plot('DFT of H', '|H|', 'Digital Frequency' )\n",
    "pl.plot(fwh, np.abs(np.fft.fft(h)))"
   ]
  },
  {
   "cell_type": "markdown",
   "metadata": {},
   "source": [
    "## Question 2"
   ]
  },
  {
   "cell_type": "code",
   "execution_count": null,
   "metadata": {},
   "outputs": [],
   "source": [
    "#2.1 - Answered on paper\n",
    "#2.2\n",
    "f = 4000\n",
    "fs = 12000\n",
    "samples = 5\n",
    "\n",
    "t = np.linspace(0, samples/f, int(samples*fs/f), False)\n",
    "x = np.sin(f * 2 * np.pi* t)\n",
    "X = np.abs(np.fft.fft(x))\n",
    "\n",
    "setup_plot('Sine wave', 'x', 'Samples')\n",
    "pl.stem(x)\n",
    "\n",
    "setup_plot('DFT of Sine Wave', '|X|', 'Samples')\n",
    "pl.stem(X)"
   ]
  },
  {
   "cell_type": "code",
   "execution_count": null,
   "metadata": {},
   "outputs": [],
   "source": [
    "#2.3\n",
    "t2 = np.append(t, np.zeros(int(9*samples*fs/f)))\n",
    "x2 = np.sin(f * 2 * np.pi * t2)\n",
    "X2 = np.abs(np.fft.fft(x2))\n",
    "setup_plot('DTF of padded Sine wave', 'x', 'k')\n",
    "pl.stem(X2)"
   ]
  },
  {
   "cell_type": "code",
   "execution_count": null,
   "metadata": {},
   "outputs": [],
   "source": [
    "#2.4\n",
    "p1 = int(X.size/2)\n",
    "p2 = X[p1:]\n",
    "X = np.append(X[:p1], np.zeros(X.size * 9))\n",
    "X = np.append(X, p2)\n",
    "\n",
    "xt = np.real(np.fft.ifft(X))\n",
    "setup_plot('IDFT of X with Zero Padded ', 'x', 'Samples')\n",
    "pl.stem(xt);"
   ]
  },
  {
   "cell_type": "markdown",
   "metadata": {},
   "source": [
    "## Question 3"
   ]
  },
  {
   "cell_type": "code",
   "execution_count": null,
   "metadata": {},
   "outputs": [],
   "source": [
    "#3.1\n",
    "fs = 2000\n",
    "samples = 50\n",
    "fw = np.linspace(0, 1, samples, False)\n",
    "t = np.linspace(0, samples/fs, samples, False)\n",
    "p = np.cos(1800 * np.pi * t) + 0.15*np.cos(1600* np.pi * t)\n",
    "P = np.abs(np.fft.fft(p))\n",
    "\n",
    "setup_plot('DFT of signal', '|P|', 'Digital Frequency')\n",
    "pl.stem(fw, P)"
   ]
  },
  {
   "cell_type": "markdown",
   "metadata": {},
   "source": [
    "3.2 - The low sampling resoltion makes it dificult to get an exact value, however 0.45 and 0.55 would be approximate."
   ]
  },
  {
   "cell_type": "code",
   "execution_count": null,
   "metadata": {},
   "outputs": [],
   "source": [
    "#3.3\n",
    "p2 = np.append(p, np.zeros(99*samples))\n",
    "P2 = np.abs(np.fft.fft(p2))\n",
    "fw2 = np.linspace(0, 1, 100*samples, False)\n",
    "\n",
    "setup_plot('DFT of padded signal', '|P|', 'Digital Frequency')\n",
    "pl.stem(fw2, P2)"
   ]
  },
  {
   "cell_type": "code",
   "execution_count": null,
   "metadata": {},
   "outputs": [],
   "source": []
  }
 ],
 "metadata": {
  "kernelspec": {
   "display_name": "Python 3",
   "language": "python",
   "name": "python3"
  },
  "language_info": {
   "codemirror_mode": {
    "name": "ipython",
    "version": 3
   },
   "file_extension": ".py",
   "mimetype": "text/x-python",
   "name": "python",
   "nbconvert_exporter": "python",
   "pygments_lexer": "ipython3",
   "version": "3.6.3"
  }
 },
 "nbformat": 4,
 "nbformat_minor": 1
}
